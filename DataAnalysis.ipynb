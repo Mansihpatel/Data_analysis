{
  "nbformat": 4,
  "nbformat_minor": 0,
  "metadata": {
    "colab": {
      "name": "DataAnalysis.ipynb",
      "provenance": [],
      "collapsed_sections": [
        "DM6xEV6CZSMR",
        "BLPLHfAUcQ9q",
        "lTPG75DNce_K",
        "ornWL0LSjNOW",
        "Bt3QmWcUrUju",
        "ZbxAIKJstNvO",
        "oR0DKhgZx0V5",
        "ta4mmcPc98F4"
      ],
      "toc_visible": true,
      "authorship_tag": "ABX9TyPWAfohFWHQgqcgeC7hNfaq",
      "include_colab_link": true
    },
    "kernelspec": {
      "name": "python3",
      "display_name": "Python 3"
    },
    "language_info": {
      "name": "python"
    }
  },
  "cells": [
    {
      "cell_type": "markdown",
      "metadata": {
        "id": "view-in-github",
        "colab_type": "text"
      },
      "source": [
        "<a href=\"https://colab.research.google.com/github/Mansihpatel/Data_analysis/blob/master/DataAnalysis.ipynb\" target=\"_parent\"><img src=\"https://colab.research.google.com/assets/colab-badge.svg\" alt=\"Open In Colab\"/></a>"
      ]
    },
    {
      "cell_type": "markdown",
      "metadata": {
        "id": "0sOjoZhBdja3"
      },
      "source": [
        "# Basic python"
      ]
    },
    {
      "cell_type": "markdown",
      "metadata": {
        "id": "mRx4NVh6ApRP"
      },
      "source": [
        "## Arthmetic operations"
      ]
    },
    {
      "cell_type": "code",
      "metadata": {
        "colab": {
          "base_uri": "https://localhost:8080/"
        },
        "id": "xPgdLCaIAkk_",
        "outputId": "7ea7fdd7-a761-41e9-a251-6faf7009c813"
      },
      "source": [
        "2+3+5"
      ],
      "execution_count": null,
      "outputs": [
        {
          "output_type": "execute_result",
          "data": {
            "text/plain": [
              "10"
            ]
          },
          "metadata": {
            "tags": []
          },
          "execution_count": 1
        }
      ]
    },
    {
      "cell_type": "code",
      "metadata": {
        "colab": {
          "base_uri": "https://localhost:8080/"
        },
        "id": "vinf3b8dAyLz",
        "outputId": "4c7f543f-b121-4a38-eab7-50f510aad374"
      },
      "source": [
        "100/7"
      ],
      "execution_count": null,
      "outputs": [
        {
          "output_type": "execute_result",
          "data": {
            "text/plain": [
              "14.285714285714286"
            ]
          },
          "metadata": {
            "tags": []
          },
          "execution_count": 2
        }
      ]
    },
    {
      "cell_type": "code",
      "metadata": {
        "colab": {
          "base_uri": "https://localhost:8080/"
        },
        "id": "qJmLor5oA7U8",
        "outputId": "b0b8e501-d295-4688-9e38-c59c4e94d833"
      },
      "source": [
        "100//7"
      ],
      "execution_count": null,
      "outputs": [
        {
          "output_type": "execute_result",
          "data": {
            "text/plain": [
              "14"
            ]
          },
          "metadata": {
            "tags": []
          },
          "execution_count": 3
        }
      ]
    },
    {
      "cell_type": "code",
      "metadata": {
        "colab": {
          "base_uri": "https://localhost:8080/"
        },
        "id": "uEBwYf1FA8qZ",
        "outputId": "4d098e60-66f3-4fd6-e251-ef8987f83279"
      },
      "source": [
        "100%7"
      ],
      "execution_count": null,
      "outputs": [
        {
          "output_type": "execute_result",
          "data": {
            "text/plain": [
              "2"
            ]
          },
          "metadata": {
            "tags": []
          },
          "execution_count": 4
        }
      ]
    },
    {
      "cell_type": "markdown",
      "metadata": {
        "id": "AdSCn9wOC6fs"
      },
      "source": [
        "cost of ice bag ($) = 1.25\n",
        "\n",
        "profit margin = 20% = .2\n",
        "\n",
        "profit per bag = profit margin * cost of ice bag\n",
        "               \n",
        "No of bags = 500\n",
        "\n",
        "total profit = no.of bags * profit per bag\n",
        "             = 500 * (0.2*1.25)\n"
      ]
    },
    {
      "cell_type": "code",
      "metadata": {
        "colab": {
          "base_uri": "https://localhost:8080/"
        },
        "id": "c_n8fKXPA-Mj",
        "outputId": "d641e1a1-0815-49ab-e21e-f809a1b5514c"
      },
      "source": [
        "500*(0.2*1.25)"
      ],
      "execution_count": null,
      "outputs": [
        {
          "output_type": "execute_result",
          "data": {
            "text/plain": [
              "125.0"
            ]
          },
          "metadata": {
            "tags": []
          },
          "execution_count": 5
        }
      ]
    },
    {
      "cell_type": "code",
      "metadata": {
        "colab": {
          "base_uri": "https://localhost:8080/"
        },
        "id": "Qbv1AzmVDtAj",
        "outputId": "7d342f17-9180-4f81-c559-c7e2be24431e"
      },
      "source": [
        "#cost of ice bag ($) = 1.25\n",
        "cost_of_icebag = 1.25\n",
        "\n",
        "#profit margin = 20% = .2\n",
        "profit_margin = 0.2\n",
        "\n",
        "#profit per bag = profit margin * cost of ice bag\n",
        "profit_per_bag = cost_of_icebag * profit_margin\n",
        "\n",
        "#No of bags = 500\n",
        "no_of_bags = 500\n",
        "\n",
        "#total profit = no.of bags * profit per bag \n",
        "total_profit = no_of_bags * profit_per_bag\n",
        "total_profit"
      ],
      "execution_count": null,
      "outputs": [
        {
          "output_type": "stream",
          "text": [
            "0.25\n"
          ],
          "name": "stdout"
        },
        {
          "output_type": "execute_result",
          "data": {
            "text/plain": [
              "125.0"
            ]
          },
          "metadata": {
            "tags": []
          },
          "execution_count": 7
        }
      ]
    },
    {
      "cell_type": "code",
      "metadata": {
        "colab": {
          "base_uri": "https://localhost:8080/"
        },
        "id": "APoxkYySNwbT",
        "outputId": "c5fe7939-af40-4452-e3f9-2f72537e7356"
      },
      "source": [
        "print(\"total profit is \",total_profit)"
      ],
      "execution_count": null,
      "outputs": [
        {
          "output_type": "stream",
          "text": [
            "total profit is  125.0\n"
          ],
          "name": "stdout"
        }
      ]
    },
    {
      "cell_type": "markdown",
      "metadata": {
        "id": "J0FhsC0cQRlZ"
      },
      "source": [
        "## comparision operator"
      ]
    },
    {
      "cell_type": "code",
      "metadata": {
        "id": "OnmW-nsxP9eN"
      },
      "source": [
        "my_favourite_number = 1\n",
        "my_least_favourite_number = 5\n",
        "a_neutral_number = 3"
      ],
      "execution_count": null,
      "outputs": []
    },
    {
      "cell_type": "code",
      "metadata": {
        "colab": {
          "base_uri": "https://localhost:8080/"
        },
        "id": "VWnN0E45SZZf",
        "outputId": "670f0703-e59b-4c8a-fa0d-66f97f77ce68"
      },
      "source": [
        "# euality check    True\n",
        "my_favourite_number ==1"
      ],
      "execution_count": null,
      "outputs": [
        {
          "output_type": "execute_result",
          "data": {
            "text/plain": [
              "True"
            ]
          },
          "metadata": {
            "tags": []
          },
          "execution_count": 10
        }
      ]
    },
    {
      "cell_type": "code",
      "metadata": {
        "colab": {
          "base_uri": "https://localhost:8080/"
        },
        "id": "zW4K16FFSiZO",
        "outputId": "643825f3-33d8-4058-c45d-cd85d7bb15cc"
      },
      "source": [
        "# euality check    False\n",
        "my_favourite_number == my_least_favourite_number\n"
      ],
      "execution_count": null,
      "outputs": [
        {
          "output_type": "execute_result",
          "data": {
            "text/plain": [
              "False"
            ]
          },
          "metadata": {
            "tags": []
          },
          "execution_count": 11
        }
      ]
    },
    {
      "cell_type": "code",
      "metadata": {
        "colab": {
          "base_uri": "https://localhost:8080/"
        },
        "id": "uFtGs5lzSzq7",
        "outputId": "efc9f09b-ece7-4f53-97af-a8d78a2b7d25"
      },
      "source": [
        "# not equal check - True\n",
        "my_favourite_number != my_least_favourite_number"
      ],
      "execution_count": null,
      "outputs": [
        {
          "output_type": "execute_result",
          "data": {
            "text/plain": [
              "True"
            ]
          },
          "metadata": {
            "tags": []
          },
          "execution_count": 12
        }
      ]
    },
    {
      "cell_type": "code",
      "metadata": {
        "colab": {
          "base_uri": "https://localhost:8080/"
        },
        "id": "FD8srmM4TApW",
        "outputId": "1c262d9c-d000-4c0f-ad3c-ebc2d4b51cf3"
      },
      "source": [
        "# not equal check - False\n",
        "a_neutral_number != 3"
      ],
      "execution_count": null,
      "outputs": [
        {
          "output_type": "execute_result",
          "data": {
            "text/plain": [
              "False"
            ]
          },
          "metadata": {
            "tags": []
          },
          "execution_count": 15
        }
      ]
    },
    {
      "cell_type": "code",
      "metadata": {
        "colab": {
          "base_uri": "https://localhost:8080/"
        },
        "id": "jliZUTv3TP5v",
        "outputId": "47641893-c23e-4169-f1b5-98909e0c974e"
      },
      "source": [
        "# greater than True\n",
        "my_least_favourite_number > my_favourite_number >0"
      ],
      "execution_count": null,
      "outputs": [
        {
          "output_type": "execute_result",
          "data": {
            "text/plain": [
              "True"
            ]
          },
          "metadata": {
            "tags": []
          },
          "execution_count": 21
        }
      ]
    },
    {
      "cell_type": "code",
      "metadata": {
        "colab": {
          "base_uri": "https://localhost:8080/"
        },
        "id": "4tAweQ16UDej",
        "outputId": "f1c8b85e-7834-4bb5-9a5d-dbab1719c2aa"
      },
      "source": [
        "# greater than false\n",
        "my_least_favourite_number>10"
      ],
      "execution_count": null,
      "outputs": [
        {
          "output_type": "execute_result",
          "data": {
            "text/plain": [
              "False"
            ]
          },
          "metadata": {
            "tags": []
          },
          "execution_count": 22
        }
      ]
    },
    {
      "cell_type": "code",
      "metadata": {
        "colab": {
          "base_uri": "https://localhost:8080/"
        },
        "id": "8VRgca8uUgi5",
        "outputId": "3b5d7e1d-d72e-4ae2-d3e2-83f80d6b5699"
      },
      "source": [
        "# greater or equal True\n",
        "my_favourite_number >=1 "
      ],
      "execution_count": null,
      "outputs": [
        {
          "output_type": "execute_result",
          "data": {
            "text/plain": [
              "True"
            ]
          },
          "metadata": {
            "tags": []
          },
          "execution_count": 23
        }
      ]
    },
    {
      "cell_type": "code",
      "metadata": {
        "colab": {
          "base_uri": "https://localhost:8080/"
        },
        "id": "-nUrmm6iUnc8",
        "outputId": "d076b85e-90b0-4eaf-be1b-b5426ebd84ff"
      },
      "source": [
        "# greater or equal False\n",
        "my_favourite_number >= 3"
      ],
      "execution_count": null,
      "outputs": [
        {
          "output_type": "execute_result",
          "data": {
            "text/plain": [
              "False"
            ]
          },
          "metadata": {
            "tags": []
          },
          "execution_count": 24
        }
      ]
    },
    {
      "cell_type": "code",
      "metadata": {
        "colab": {
          "base_uri": "https://localhost:8080/"
        },
        "id": "m9S5IME6UyJG",
        "outputId": "f1f4ec41-2341-4692-d21b-324ac0887a28"
      },
      "source": [
        "# less than equal to True\n",
        "3*3 <= 10\n"
      ],
      "execution_count": null,
      "outputs": [
        {
          "output_type": "execute_result",
          "data": {
            "text/plain": [
              "True"
            ]
          },
          "metadata": {
            "tags": []
          },
          "execution_count": 25
        }
      ]
    },
    {
      "cell_type": "markdown",
      "metadata": {
        "id": "DM6xEV6CZSMR"
      },
      "source": [
        "##Combining conditions with logical operators\n"
      ]
    },
    {
      "cell_type": "code",
      "metadata": {
        "colab": {
          "base_uri": "https://localhost:8080/"
        },
        "id": "b_WDBylTU6aN",
        "outputId": "2ae36044-1bc3-4294-905e-d9b5b1051a77"
      },
      "source": [
        "my_favourite_number"
      ],
      "execution_count": null,
      "outputs": [
        {
          "output_type": "execute_result",
          "data": {
            "text/plain": [
              "1"
            ]
          },
          "metadata": {
            "tags": []
          },
          "execution_count": 28
        }
      ]
    },
    {
      "cell_type": "code",
      "metadata": {
        "colab": {
          "base_uri": "https://localhost:8080/"
        },
        "id": "ccA5x7LNZz0u",
        "outputId": "7efd8743-af5b-4846-8e50-66af58be703e"
      },
      "source": [
        "my_favourite_number >0 and  my_favourite_number <4"
      ],
      "execution_count": null,
      "outputs": [
        {
          "output_type": "execute_result",
          "data": {
            "text/plain": [
              "True"
            ]
          },
          "metadata": {
            "tags": []
          },
          "execution_count": 29
        }
      ]
    },
    {
      "cell_type": "code",
      "metadata": {
        "colab": {
          "base_uri": "https://localhost:8080/"
        },
        "id": "QzCaLzPyaBag",
        "outputId": "ee31e59e-a129-476f-f4ef-a7a9be708079"
      },
      "source": [
        "my_favourite_number >0 and my_least_favourite_number >6"
      ],
      "execution_count": null,
      "outputs": [
        {
          "output_type": "execute_result",
          "data": {
            "text/plain": [
              "False"
            ]
          },
          "metadata": {
            "tags": []
          },
          "execution_count": 33
        }
      ]
    },
    {
      "cell_type": "code",
      "metadata": {
        "colab": {
          "base_uri": "https://localhost:8080/"
        },
        "id": "COaierxbaiT5",
        "outputId": "2a001205-0ccf-45ab-e7a9-a93196d11140"
      },
      "source": [
        "my_favourite_number >0 or my_least_favourite_number >6"
      ],
      "execution_count": null,
      "outputs": [
        {
          "output_type": "execute_result",
          "data": {
            "text/plain": [
              "True"
            ]
          },
          "metadata": {
            "tags": []
          },
          "execution_count": 34
        }
      ]
    },
    {
      "cell_type": "code",
      "metadata": {
        "colab": {
          "base_uri": "https://localhost:8080/"
        },
        "id": "xBob5Cpnbvds",
        "outputId": "d35e566d-207b-4a57-c6a2-38eba1bb210d"
      },
      "source": [
        "True and False"
      ],
      "execution_count": null,
      "outputs": [
        {
          "output_type": "execute_result",
          "data": {
            "text/plain": [
              "False"
            ]
          },
          "metadata": {
            "tags": []
          },
          "execution_count": 35
        }
      ]
    },
    {
      "cell_type": "code",
      "metadata": {
        "colab": {
          "base_uri": "https://localhost:8080/"
        },
        "id": "4flten5VbyBF",
        "outputId": "ba029db0-4951-4973-c1fa-3b8bcbb1e70b"
      },
      "source": [
        "False and True"
      ],
      "execution_count": null,
      "outputs": [
        {
          "output_type": "execute_result",
          "data": {
            "text/plain": [
              "False"
            ]
          },
          "metadata": {
            "tags": []
          },
          "execution_count": 38
        }
      ]
    },
    {
      "cell_type": "code",
      "metadata": {
        "colab": {
          "base_uri": "https://localhost:8080/"
        },
        "id": "We__da8Yb1sG",
        "outputId": "68f3158d-5eea-43cf-adf3-8bb10b215e32"
      },
      "source": [
        "True and True"
      ],
      "execution_count": null,
      "outputs": [
        {
          "output_type": "execute_result",
          "data": {
            "text/plain": [
              "True"
            ]
          },
          "metadata": {
            "tags": []
          },
          "execution_count": 37
        }
      ]
    },
    {
      "cell_type": "code",
      "metadata": {
        "colab": {
          "base_uri": "https://localhost:8080/"
        },
        "id": "g-fuuH7ub7dJ",
        "outputId": "c20e0f00-1b4c-4bb7-8caa-bfc6a46f1a58"
      },
      "source": [
        "False and False"
      ],
      "execution_count": null,
      "outputs": [
        {
          "output_type": "execute_result",
          "data": {
            "text/plain": [
              "False"
            ]
          },
          "metadata": {
            "tags": []
          },
          "execution_count": 39
        }
      ]
    },
    {
      "cell_type": "markdown",
      "metadata": {
        "id": "BLPLHfAUcQ9q"
      },
      "source": [
        "##The not operator returns False if a condition is True and True if the condition is False.\n",
        "\n"
      ]
    },
    {
      "cell_type": "code",
      "metadata": {
        "colab": {
          "base_uri": "https://localhost:8080/"
        },
        "id": "gTpbpWvrcAXT",
        "outputId": "ba9a93be-6288-4de1-95ed-f51bee4d9d8e"
      },
      "source": [
        "not my_favourite_number == 1"
      ],
      "execution_count": null,
      "outputs": [
        {
          "output_type": "execute_result",
          "data": {
            "text/plain": [
              "False"
            ]
          },
          "metadata": {
            "tags": []
          },
          "execution_count": 41
        }
      ]
    },
    {
      "cell_type": "markdown",
      "metadata": {
        "id": "lTPG75DNce_K"
      },
      "source": [
        "## Logical operators can be combined to form complex conditions. Use round brackets or parentheses ( and ) to indicate the order in which logical operators should be applied."
      ]
    },
    {
      "cell_type": "code",
      "metadata": {
        "colab": {
          "base_uri": "https://localhost:8080/"
        },
        "id": "x4xIs9KAcUoq",
        "outputId": "f202fe53-5df9-4016-b969-3b928db15bf0"
      },
      "source": [
        "(2 > 3 and 4 <= 5) or not (my_favourite_number < 0 and True)\n"
      ],
      "execution_count": null,
      "outputs": [
        {
          "output_type": "execute_result",
          "data": {
            "text/plain": [
              "True"
            ]
          },
          "metadata": {
            "tags": []
          },
          "execution_count": 43
        }
      ]
    },
    {
      "cell_type": "code",
      "metadata": {
        "colab": {
          "base_uri": "https://localhost:8080/"
        },
        "id": "e63R9Bb_cxQ6",
        "outputId": "1ebc13e8-a8cf-425d-c346-53664602aedb"
      },
      "source": [
        "not True and 0 < 1 or False and True\n"
      ],
      "execution_count": null,
      "outputs": [
        {
          "output_type": "execute_result",
          "data": {
            "text/plain": [
              "False"
            ]
          },
          "metadata": {
            "tags": []
          },
          "execution_count": 44
        }
      ]
    },
    {
      "cell_type": "markdown",
      "metadata": {
        "id": "y_CfbTGrdexF"
      },
      "source": [
        "# variables and data types"
      ]
    },
    {
      "cell_type": "code",
      "metadata": {
        "id": "s-evvbLmc8wI"
      },
      "source": [
        "my_favorite_color = \"blue\""
      ],
      "execution_count": null,
      "outputs": []
    },
    {
      "cell_type": "code",
      "metadata": {
        "colab": {
          "base_uri": "https://localhost:8080/",
          "height": 35
        },
        "id": "QUOAspurfAn3",
        "outputId": "6f82e1e6-f992-492f-b9cd-8a819c5e9e89"
      },
      "source": [
        "my_favorite_color"
      ],
      "execution_count": null,
      "outputs": [
        {
          "output_type": "execute_result",
          "data": {
            "application/vnd.google.colaboratory.intrinsic+json": {
              "type": "string"
            },
            "text/plain": [
              "'blue'"
            ]
          },
          "metadata": {
            "tags": []
          },
          "execution_count": 46
        }
      ]
    },
    {
      "cell_type": "code",
      "metadata": {
        "id": "VPbpvDbqfPmw"
      },
      "source": [
        "color1 = color2 = \"red\",\"green\""
      ],
      "execution_count": null,
      "outputs": []
    },
    {
      "cell_type": "code",
      "metadata": {
        "colab": {
          "base_uri": "https://localhost:8080/"
        },
        "id": "B8M-enjUfVEv",
        "outputId": "34b9f30d-5a92-4a97-9216-121e3ccd9076"
      },
      "source": [
        "color2"
      ],
      "execution_count": null,
      "outputs": [
        {
          "output_type": "execute_result",
          "data": {
            "text/plain": [
              "('red', 'green')"
            ]
          },
          "metadata": {
            "tags": []
          },
          "execution_count": 51
        }
      ]
    },
    {
      "cell_type": "code",
      "metadata": {
        "id": "p2rxn8V_fYYm"
      },
      "source": [
        "color3 = color4 = \"magenta\""
      ],
      "execution_count": null,
      "outputs": []
    },
    {
      "cell_type": "code",
      "metadata": {
        "id": "qo0uQRHJfiO0"
      },
      "source": [
        "counter = 10\n",
        "counter = counter+1"
      ],
      "execution_count": null,
      "outputs": []
    },
    {
      "cell_type": "code",
      "metadata": {
        "colab": {
          "base_uri": "https://localhost:8080/"
        },
        "id": "Py2UqT40if30",
        "outputId": "0a5005bd-fb65-4cd0-c706-579edfd1c34c"
      },
      "source": [
        "counter"
      ],
      "execution_count": null,
      "outputs": [
        {
          "output_type": "execute_result",
          "data": {
            "text/plain": [
              "11"
            ]
          },
          "metadata": {
            "tags": []
          },
          "execution_count": 54
        }
      ]
    },
    {
      "cell_type": "code",
      "metadata": {
        "id": "QCowfZ-bih44"
      },
      "source": [
        "counter += 4"
      ],
      "execution_count": null,
      "outputs": []
    },
    {
      "cell_type": "code",
      "metadata": {
        "colab": {
          "base_uri": "https://localhost:8080/"
        },
        "id": "Y_6fWbHmiuln",
        "outputId": "e93eadd0-8b41-4a5a-c3ed-2447f5b37e29"
      },
      "source": [
        "counter"
      ],
      "execution_count": null,
      "outputs": [
        {
          "output_type": "execute_result",
          "data": {
            "text/plain": [
              "15"
            ]
          },
          "metadata": {
            "tags": []
          },
          "execution_count": 56
        }
      ]
    },
    {
      "cell_type": "code",
      "metadata": {
        "colab": {
          "base_uri": "https://localhost:8080/"
        },
        "id": "gxFdiCRzivYV",
        "outputId": "f9ba07cb-e7da-486f-e1c0-3d71644c215a"
      },
      "source": [
        "counter *= 4\n",
        "counter"
      ],
      "execution_count": null,
      "outputs": [
        {
          "output_type": "execute_result",
          "data": {
            "text/plain": [
              "60"
            ]
          },
          "metadata": {
            "tags": []
          },
          "execution_count": 57
        }
      ]
    },
    {
      "cell_type": "markdown",
      "metadata": {
        "id": "ornWL0LSjNOW"
      },
      "source": [
        "## variable naming "
      ]
    },
    {
      "cell_type": "code",
      "metadata": {
        "id": "QPj8UtHLizyD"
      },
      "source": [
        "a_variable = 23\n",
        "is_today_Saturday = False\n",
        "my_favorite_car = \"Delorean\"\n",
        "the_3_musketeers = [\"Athos\", \"Porthos\", \"Aramis\"] "
      ],
      "execution_count": null,
      "outputs": []
    },
    {
      "cell_type": "markdown",
      "metadata": {
        "id": "Bt3QmWcUrUju"
      },
      "source": [
        "## Built-in data types in Python\n",
        "\n",
        "type()  to check data type"
      ]
    },
    {
      "cell_type": "code",
      "metadata": {
        "colab": {
          "base_uri": "https://localhost:8080/"
        },
        "id": "cieUhobljREi",
        "outputId": "c2bbdf6d-6cb5-4215-ab9e-a705ef9be725"
      },
      "source": [
        "a_variable"
      ],
      "execution_count": null,
      "outputs": [
        {
          "output_type": "execute_result",
          "data": {
            "text/plain": [
              "23"
            ]
          },
          "metadata": {
            "tags": []
          },
          "execution_count": 59
        }
      ]
    },
    {
      "cell_type": "code",
      "metadata": {
        "colab": {
          "base_uri": "https://localhost:8080/"
        },
        "id": "Q4fZFjjEreKt",
        "outputId": "50f953b4-848c-45c9-c26c-1d8501ab2554"
      },
      "source": [
        "type(a_variable)"
      ],
      "execution_count": null,
      "outputs": [
        {
          "output_type": "execute_result",
          "data": {
            "text/plain": [
              "int"
            ]
          },
          "metadata": {
            "tags": []
          },
          "execution_count": 60
        }
      ]
    },
    {
      "cell_type": "code",
      "metadata": {
        "colab": {
          "base_uri": "https://localhost:8080/"
        },
        "id": "pl4cFAj7riUl",
        "outputId": "6ae4cca9-1424-4b47-94c4-09fc547078d5"
      },
      "source": [
        "type(is_today_Saturday)"
      ],
      "execution_count": null,
      "outputs": [
        {
          "output_type": "execute_result",
          "data": {
            "text/plain": [
              "bool"
            ]
          },
          "metadata": {
            "tags": []
          },
          "execution_count": 62
        }
      ]
    },
    {
      "cell_type": "code",
      "metadata": {
        "colab": {
          "base_uri": "https://localhost:8080/"
        },
        "id": "de4tiF5_rpRf",
        "outputId": "b300786b-8ecf-4bfe-c08a-e3abe0570dca"
      },
      "source": [
        "type(my_favorite_car)\n"
      ],
      "execution_count": null,
      "outputs": [
        {
          "output_type": "execute_result",
          "data": {
            "text/plain": [
              "str"
            ]
          },
          "metadata": {
            "tags": []
          },
          "execution_count": 63
        }
      ]
    },
    {
      "cell_type": "code",
      "metadata": {
        "colab": {
          "base_uri": "https://localhost:8080/"
        },
        "id": "1epGrNOHruyn",
        "outputId": "af097e7e-3df3-4d05-e559-c616923641a0"
      },
      "source": [
        "type(the_3_musketeers)"
      ],
      "execution_count": null,
      "outputs": [
        {
          "output_type": "execute_result",
          "data": {
            "text/plain": [
              "list"
            ]
          },
          "metadata": {
            "tags": []
          },
          "execution_count": 64
        }
      ]
    },
    {
      "cell_type": "markdown",
      "metadata": {
        "id": "xHLQWvYfsAuM"
      },
      "source": [
        "## Python has several built-in data types for storing different kinds of information in variables. Following are some commonly used data types:\n",
        "\n",
        "**Integer**\n",
        "**Float**\n",
        "**Boolean**\n",
        "**None**\n",
        "**String**\n",
        "**List**\n",
        "**Tuple**\n",
        "**Dictionary**.\n",
        "\n",
        "Integer, float, boolean, None, and string are **primitive** data types because they represent a single value. Other data types like list, tuple, and dictionary are often called **data** **structures** or containers because they hold multiple pieces of data together."
      ]
    },
    {
      "cell_type": "markdown",
      "metadata": {
        "id": "XgJ6ZGNWswTa"
      },
      "source": [
        "### Integer\n"
      ]
    },
    {
      "cell_type": "code",
      "metadata": {
        "id": "zI9-tqpzryws"
      },
      "source": [
        "current_year = 2020\n"
      ],
      "execution_count": null,
      "outputs": []
    },
    {
      "cell_type": "code",
      "metadata": {
        "colab": {
          "base_uri": "https://localhost:8080/"
        },
        "id": "irhuLIHAsuUG",
        "outputId": "e02422fc-3cd3-46ad-d802-d6979ca9ea89"
      },
      "source": [
        "type(current_year)"
      ],
      "execution_count": null,
      "outputs": [
        {
          "output_type": "execute_result",
          "data": {
            "text/plain": [
              "int"
            ]
          },
          "metadata": {
            "tags": []
          },
          "execution_count": 68
        }
      ]
    },
    {
      "cell_type": "code",
      "metadata": {
        "id": "3lKYIv30s8dw"
      },
      "source": [
        "a_large_negative_number = -23374038374832934334234317348343"
      ],
      "execution_count": null,
      "outputs": []
    },
    {
      "cell_type": "code",
      "metadata": {
        "colab": {
          "base_uri": "https://localhost:8080/"
        },
        "id": "Xyi5JPH8tBxW",
        "outputId": "477d2d89-6319-479f-9945-9cb56ccca1e5"
      },
      "source": [
        "type(a_large_negative_number)"
      ],
      "execution_count": null,
      "outputs": [
        {
          "output_type": "execute_result",
          "data": {
            "text/plain": [
              "int"
            ]
          },
          "metadata": {
            "tags": []
          },
          "execution_count": 70
        }
      ]
    },
    {
      "cell_type": "markdown",
      "metadata": {
        "id": "ZbxAIKJstNvO"
      },
      "source": [
        "### float"
      ]
    },
    {
      "cell_type": "code",
      "metadata": {
        "colab": {
          "base_uri": "https://localhost:8080/"
        },
        "id": "nst5C8z_tHJc",
        "outputId": "6ef02cd2-84cf-4a3f-c997-4a13b6904ac1"
      },
      "source": [
        "pi = 3.14\n",
        "type(pi)"
      ],
      "execution_count": null,
      "outputs": [
        {
          "output_type": "execute_result",
          "data": {
            "text/plain": [
              "float"
            ]
          },
          "metadata": {
            "tags": []
          },
          "execution_count": 74
        }
      ]
    },
    {
      "cell_type": "code",
      "metadata": {
        "colab": {
          "base_uri": "https://localhost:8080/"
        },
        "id": "oejMwCCFtR2-",
        "outputId": "348d59d1-2ed9-42ff-e9ff-f85e4c8ad99a"
      },
      "source": [
        "num = 3.0\n",
        "type(num)"
      ],
      "execution_count": null,
      "outputs": [
        {
          "output_type": "execute_result",
          "data": {
            "text/plain": [
              "float"
            ]
          },
          "metadata": {
            "tags": []
          },
          "execution_count": 75
        }
      ]
    },
    {
      "cell_type": "code",
      "metadata": {
        "colab": {
          "base_uri": "https://localhost:8080/"
        },
        "id": "rOjQOssNthA-",
        "outputId": "745d5d5b-90e9-43f0-f5ca-fd84f6b19eed"
      },
      "source": [
        "num2 = 4.0\n",
        "type(num2)"
      ],
      "execution_count": null,
      "outputs": [
        {
          "output_type": "execute_result",
          "data": {
            "text/plain": [
              "float"
            ]
          },
          "metadata": {
            "tags": []
          },
          "execution_count": 76
        }
      ]
    },
    {
      "cell_type": "code",
      "metadata": {
        "colab": {
          "base_uri": "https://localhost:8080/"
        },
        "id": "GCInX3iuuAIv",
        "outputId": "ee9cb171-9022-4233-a5b4-0d764e0d9e97"
      },
      "source": [
        "# Floating point numbers can also be written using the scientific notation with an \"e\" to indicate the power of 10.\n",
        "\n",
        "small_num = 1e-4\n",
        "small_num"
      ],
      "execution_count": null,
      "outputs": [
        {
          "output_type": "execute_result",
          "data": {
            "text/plain": [
              "0.0001"
            ]
          },
          "metadata": {
            "tags": []
          },
          "execution_count": 83
        }
      ]
    },
    {
      "cell_type": "code",
      "metadata": {
        "colab": {
          "base_uri": "https://localhost:8080/"
        },
        "id": "YgmZh8Z2txr_",
        "outputId": "b6b3b0a4-ad25-4f7c-84f6-24b08530265b"
      },
      "source": [
        "# avagadro number \n",
        "avogadro_num = 6.2345e+23\n",
        "avogadro_num\n",
        "type(avogadro_num)"
      ],
      "execution_count": null,
      "outputs": [
        {
          "output_type": "execute_result",
          "data": {
            "text/plain": [
              "float"
            ]
          },
          "metadata": {
            "tags": []
          },
          "execution_count": 85
        }
      ]
    },
    {
      "cell_type": "code",
      "metadata": {
        "colab": {
          "base_uri": "https://localhost:8080/"
        },
        "id": "VlrBV_yXuld2",
        "outputId": "8ef8bf11-70ac-433c-b9f7-07a43f9dd75b"
      },
      "source": [
        "# convert int -> float and float -> int\n",
        "float(current_year)\n"
      ],
      "execution_count": null,
      "outputs": [
        {
          "output_type": "execute_result",
          "data": {
            "text/plain": [
              "2020.0"
            ]
          },
          "metadata": {
            "tags": []
          },
          "execution_count": 86
        }
      ]
    },
    {
      "cell_type": "code",
      "metadata": {
        "colab": {
          "base_uri": "https://localhost:8080/"
        },
        "id": "Uv5X_Ax0xYau",
        "outputId": "866c1ada-15aa-46f4-8855-f83a1edff5f0"
      },
      "source": [
        "int(avogadro_num)"
      ],
      "execution_count": null,
      "outputs": [
        {
          "output_type": "execute_result",
          "data": {
            "text/plain": [
              "623450000000000047710208"
            ]
          },
          "metadata": {
            "tags": []
          },
          "execution_count": 87
        }
      ]
    },
    {
      "cell_type": "code",
      "metadata": {
        "colab": {
          "base_uri": "https://localhost:8080/"
        },
        "id": "fgXoxUznxbBe",
        "outputId": "423a1c30-fe3e-4c54-a80b-81a689a59686"
      },
      "source": [
        "type(10*3)"
      ],
      "execution_count": null,
      "outputs": [
        {
          "output_type": "execute_result",
          "data": {
            "text/plain": [
              "int"
            ]
          },
          "metadata": {
            "tags": []
          },
          "execution_count": 88
        }
      ]
    },
    {
      "cell_type": "code",
      "metadata": {
        "colab": {
          "base_uri": "https://localhost:8080/"
        },
        "id": "r3PJiUpxxlEq",
        "outputId": "ae76d811-7382-406a-f3f3-b27116401fd8"
      },
      "source": [
        "type(10.0 *3.0)"
      ],
      "execution_count": null,
      "outputs": [
        {
          "output_type": "execute_result",
          "data": {
            "text/plain": [
              "float"
            ]
          },
          "metadata": {
            "tags": []
          },
          "execution_count": 89
        }
      ]
    },
    {
      "cell_type": "code",
      "metadata": {
        "colab": {
          "base_uri": "https://localhost:8080/"
        },
        "id": "drQ9HFvWxnZZ",
        "outputId": "27357474-3ba1-4063-b923-40eedaad1121"
      },
      "source": [
        "type(10/2)"
      ],
      "execution_count": null,
      "outputs": [
        {
          "output_type": "execute_result",
          "data": {
            "text/plain": [
              "float"
            ]
          },
          "metadata": {
            "tags": []
          },
          "execution_count": 90
        }
      ]
    },
    {
      "cell_type": "code",
      "metadata": {
        "colab": {
          "base_uri": "https://localhost:8080/"
        },
        "id": "rQ0Oj-K0xq6C",
        "outputId": "181f8d08-d0b1-40f6-f5e2-9845dcfa2fce"
      },
      "source": [
        "type(10//2)"
      ],
      "execution_count": null,
      "outputs": [
        {
          "output_type": "execute_result",
          "data": {
            "text/plain": [
              "int"
            ]
          },
          "metadata": {
            "tags": []
          },
          "execution_count": 91
        }
      ]
    },
    {
      "cell_type": "markdown",
      "metadata": {
        "id": "oR0DKhgZx0V5"
      },
      "source": [
        "###Boolean\n"
      ]
    },
    {
      "cell_type": "code",
      "metadata": {
        "id": "c-EU6r6lxsJp"
      },
      "source": [
        "#Booleans represent one of 2 values: True and False. Booleans have the type bool.\n",
        "\n",
        "#Booleans are generally the result of a comparison operation, e.g., ==, >=, etc.\n",
        "\n",
        "\n"
      ],
      "execution_count": null,
      "outputs": []
    },
    {
      "cell_type": "code",
      "metadata": {
        "id": "jqefI6pPyA59"
      },
      "source": [
        "is_today_Sunday = True\n"
      ],
      "execution_count": null,
      "outputs": []
    },
    {
      "cell_type": "code",
      "metadata": {
        "colab": {
          "base_uri": "https://localhost:8080/"
        },
        "id": "JiCgMMxfyEbf",
        "outputId": "085a8c80-f6a4-45f9-89de-0cf8f4cd9c5d"
      },
      "source": [
        "type(is_today_Sunday)"
      ],
      "execution_count": null,
      "outputs": [
        {
          "output_type": "execute_result",
          "data": {
            "text/plain": [
              "bool"
            ]
          },
          "metadata": {
            "tags": []
          },
          "execution_count": 94
        }
      ]
    },
    {
      "cell_type": "code",
      "metadata": {
        "id": "FjKEmrg8yGkk"
      },
      "source": [
        "cost_of_ice_bag = 12.25\n",
        "is_ice_bag_expensive = cost_of_ice_bag1 > 10\n"
      ],
      "execution_count": null,
      "outputs": []
    },
    {
      "cell_type": "code",
      "metadata": {
        "colab": {
          "base_uri": "https://localhost:8080/"
        },
        "id": "PGfFCJ1UykP_",
        "outputId": "117c685a-3fd5-4ae9-e7e4-15011b983b8d"
      },
      "source": [
        "is_ice_bag_expensive"
      ],
      "execution_count": null,
      "outputs": [
        {
          "output_type": "execute_result",
          "data": {
            "text/plain": [
              "True"
            ]
          },
          "metadata": {
            "tags": []
          },
          "execution_count": 116
        }
      ]
    },
    {
      "cell_type": "code",
      "metadata": {
        "id": "7-kawYvt174f"
      },
      "source": [
        "is_ice_bag_expensive = cost_of_ice_bag >=13\n"
      ],
      "execution_count": null,
      "outputs": []
    },
    {
      "cell_type": "code",
      "metadata": {
        "colab": {
          "base_uri": "https://localhost:8080/"
        },
        "id": "4dviChvj2KxP",
        "outputId": "d2b17a93-5910-4ee1-bac9-ead13c6ad4b3"
      },
      "source": [
        "is_ice_bag_expensive"
      ],
      "execution_count": null,
      "outputs": [
        {
          "output_type": "execute_result",
          "data": {
            "text/plain": [
              "False"
            ]
          },
          "metadata": {
            "tags": []
          },
          "execution_count": 120
        }
      ]
    },
    {
      "cell_type": "code",
      "metadata": {
        "colab": {
          "base_uri": "https://localhost:8080/"
        },
        "id": "EecdI25M4fXa",
        "outputId": "eebd432e-b7ca-42d3-b505-163467d3eac6"
      },
      "source": [
        "type(is_ice_bag_expensive)"
      ],
      "execution_count": null,
      "outputs": [
        {
          "output_type": "execute_result",
          "data": {
            "text/plain": [
              "bool"
            ]
          },
          "metadata": {
            "tags": []
          },
          "execution_count": 121
        }
      ]
    },
    {
      "cell_type": "code",
      "metadata": {
        "id": "gfLP07uC4m1x"
      },
      "source": [
        "#Booleans are automatically converted to ints when used in arithmetic operations. True is converted to 1 and False is converted to 0.\n",
        "\n"
      ],
      "execution_count": null,
      "outputs": []
    },
    {
      "cell_type": "code",
      "metadata": {
        "colab": {
          "base_uri": "https://localhost:8080/"
        },
        "id": "hUPd2y2I4u3t",
        "outputId": "eb4db49d-b018-4fba-e002-c034fe3eb500"
      },
      "source": [
        "5.0+False"
      ],
      "execution_count": null,
      "outputs": [
        {
          "output_type": "execute_result",
          "data": {
            "text/plain": [
              "5.0"
            ]
          },
          "metadata": {
            "tags": []
          },
          "execution_count": 126
        }
      ]
    },
    {
      "cell_type": "code",
      "metadata": {
        "colab": {
          "base_uri": "https://localhost:8080/"
        },
        "id": "j1W8uNOg4xJh",
        "outputId": "3352f49e-e274-4222-9661-c400a43de054"
      },
      "source": [
        "5+True"
      ],
      "execution_count": null,
      "outputs": [
        {
          "output_type": "execute_result",
          "data": {
            "text/plain": [
              "6"
            ]
          },
          "metadata": {
            "tags": []
          },
          "execution_count": 125
        }
      ]
    },
    {
      "cell_type": "code",
      "metadata": {
        "id": "6y8ivufP40t0"
      },
      "source": [
        "# Any value in Python can be converted to a Boolean using the bool function.\n",
        "\n",
        "# Only the following values evaluate to False (they are often called falsy values):\n",
        "\n",
        "# The value False itself\n",
        "# The integer 0\n",
        "# The float 0.0\n",
        "# The empty value None\n",
        "# The empty text \"\"\n",
        "# The empty list []\n",
        "# The empty tuple ()\n",
        "# The empty dictionary {}\n",
        "# The empty set set()\n",
        "# The empty range range(0)\n",
        "# Everything else evaluates to True (a value that evaluates to True is often called a truthy value)."
      ],
      "execution_count": null,
      "outputs": []
    },
    {
      "cell_type": "code",
      "metadata": {
        "colab": {
          "base_uri": "https://localhost:8080/"
        },
        "id": "aVzs8WY95zGr",
        "outputId": "799cefd2-739f-41cc-d6d2-97c5d88a764f"
      },
      "source": [
        "bool(False)\n"
      ],
      "execution_count": null,
      "outputs": [
        {
          "output_type": "execute_result",
          "data": {
            "text/plain": [
              "False"
            ]
          },
          "metadata": {
            "tags": []
          },
          "execution_count": 131
        }
      ]
    },
    {
      "cell_type": "code",
      "metadata": {
        "colab": {
          "base_uri": "https://localhost:8080/"
        },
        "id": "UwxIIxCt50r9",
        "outputId": "7c618e83-48ad-4ad1-8253-d872881f4893"
      },
      "source": [
        "bool(0)"
      ],
      "execution_count": null,
      "outputs": [
        {
          "output_type": "execute_result",
          "data": {
            "text/plain": [
              "False"
            ]
          },
          "metadata": {
            "tags": []
          },
          "execution_count": 133
        }
      ]
    },
    {
      "cell_type": "code",
      "metadata": {
        "colab": {
          "base_uri": "https://localhost:8080/"
        },
        "id": "GnpWuKJJ53ve",
        "outputId": "fb9ee079-b3d0-4cfd-a26b-6608036eef03"
      },
      "source": [
        "bool(True), bool(1), bool(2.0), bool(\"hello\"), bool([1,2]), bool((2,3)), bool(range(10))"
      ],
      "execution_count": null,
      "outputs": [
        {
          "output_type": "execute_result",
          "data": {
            "text/plain": [
              "(True, True, True, True, True, True, True)"
            ]
          },
          "metadata": {
            "tags": []
          },
          "execution_count": 135
        }
      ]
    },
    {
      "cell_type": "code",
      "metadata": {
        "colab": {
          "base_uri": "https://localhost:8080/"
        },
        "id": "KKu06WqF55qz",
        "outputId": "21858eb2-c203-4e74-ab32-87881e019822"
      },
      "source": [
        "bool(False),bool(0),bool(0.0),bool(None),bool(\"\"),bool([]),bool({}),bool(range(0))\n"
      ],
      "execution_count": null,
      "outputs": [
        {
          "output_type": "execute_result",
          "data": {
            "text/plain": [
              "(False, False, False, False, False, False, False, False)"
            ]
          },
          "metadata": {
            "tags": []
          },
          "execution_count": 139
        }
      ]
    },
    {
      "cell_type": "markdown",
      "metadata": {
        "id": "ta4mmcPc98F4"
      },
      "source": [
        "###None"
      ]
    },
    {
      "cell_type": "code",
      "metadata": {
        "id": "qxT7_j9s6WJ0"
      },
      "source": [
        "nothing = None"
      ],
      "execution_count": null,
      "outputs": []
    },
    {
      "cell_type": "code",
      "metadata": {
        "colab": {
          "base_uri": "https://localhost:8080/"
        },
        "id": "6hLF9ELi-CTf",
        "outputId": "e217b03a-7ee1-4b46-c679-64d3197300f5"
      },
      "source": [
        "type(nothing)\n"
      ],
      "execution_count": null,
      "outputs": [
        {
          "output_type": "execute_result",
          "data": {
            "text/plain": [
              "NoneType"
            ]
          },
          "metadata": {
            "tags": []
          },
          "execution_count": 141
        }
      ]
    },
    {
      "cell_type": "markdown",
      "metadata": {
        "id": "dnBIWgvU-N1-"
      },
      "source": [
        "###String"
      ]
    },
    {
      "cell_type": "code",
      "metadata": {
        "colab": {
          "base_uri": "https://localhost:8080/"
        },
        "id": "GgrqKs1K-KkN",
        "outputId": "265cbb59-5e4c-4035-ce8c-c46030d415dc"
      },
      "source": [
        "today = \"Saturday\"\n",
        "type(today)"
      ],
      "execution_count": null,
      "outputs": [
        {
          "output_type": "execute_result",
          "data": {
            "text/plain": [
              "str"
            ]
          },
          "metadata": {
            "tags": []
          },
          "execution_count": 142
        }
      ]
    },
    {
      "cell_type": "code",
      "metadata": {
        "colab": {
          "base_uri": "https://localhost:8080/",
          "height": 35
        },
        "id": "evIif6Ul-pDl",
        "outputId": "2334a447-55cf-4b72-cd6b-930725111e08"
      },
      "source": [
        "another_pun = \"The first time I got a universal remote control, I thought to myself \\\"This changes everything\\\".\"\n",
        "another_pun\n"
      ],
      "execution_count": null,
      "outputs": [
        {
          "output_type": "execute_result",
          "data": {
            "application/vnd.google.colaboratory.intrinsic+json": {
              "type": "string"
            },
            "text/plain": [
              "'The first time I got a universal remote control, I thought to myself \"This changes everything\".'"
            ]
          },
          "metadata": {
            "tags": []
          },
          "execution_count": 143
        }
      ]
    },
    {
      "cell_type": "code",
      "metadata": {
        "colab": {
          "base_uri": "https://localhost:8080/",
          "height": 35
        },
        "id": "lEkaMAya_Xyl",
        "outputId": "09edf4dd-29a7-46c3-a7e9-062a2599e43d"
      },
      "source": [
        "yet_another_pun = '''Son: \"Dad, can you tell me what a solar eclipse is?\" \n",
        "Dad: \"No sun.\"'''\n",
        "yet_another_pun"
      ],
      "execution_count": null,
      "outputs": [
        {
          "output_type": "execute_result",
          "data": {
            "application/vnd.google.colaboratory.intrinsic+json": {
              "type": "string"
            },
            "text/plain": [
              "'Son: \"Dad, can you tell me what a solar eclipse is?\" \\nDad: \"No sun.\"'"
            ]
          },
          "metadata": {
            "tags": []
          },
          "execution_count": 144
        }
      ]
    },
    {
      "cell_type": "code",
      "metadata": {
        "colab": {
          "base_uri": "https://localhost:8080/"
        },
        "id": "VxwNkRd4AFhX",
        "outputId": "aa017e98-3008-4012-f5a8-a12190970231"
      },
      "source": [
        "print(yet_another_pun)\n"
      ],
      "execution_count": null,
      "outputs": [
        {
          "output_type": "stream",
          "text": [
            "Son: \"Dad, can you tell me what a solar eclipse is?\" \n",
            "Dad: \"No sun.\"\n"
          ],
          "name": "stdout"
        }
      ]
    },
    {
      "cell_type": "code",
      "metadata": {
        "id": "i_N9HD5eAQvO"
      },
      "source": [
        "a_music_pun = \"\"\"\n",
        "Two windmills are standing in a field and one asks the other, \n",
        "\"What kind of music do you like?\"  \n",
        "\n",
        "The other says, \n",
        "\"I'm a big metal fan.\"\n",
        "\"\"\""
      ],
      "execution_count": null,
      "outputs": []
    },
    {
      "cell_type": "code",
      "metadata": {
        "colab": {
          "base_uri": "https://localhost:8080/",
          "height": 35
        },
        "id": "dtmMWXQlD-1F",
        "outputId": "e43021b0-1213-412f-c3e2-c258a64f5cd4"
      },
      "source": [
        "a_music_pun"
      ],
      "execution_count": null,
      "outputs": [
        {
          "output_type": "execute_result",
          "data": {
            "application/vnd.google.colaboratory.intrinsic+json": {
              "type": "string"
            },
            "text/plain": [
              "'\\nTwo windmills are standing in a field and one asks the other, \\n\"What kind of music do you like?\"  \\n\\nThe other says, \\n\"I\\'m a big metal fan.\"\\n'"
            ]
          },
          "metadata": {
            "tags": []
          },
          "execution_count": 147
        }
      ]
    },
    {
      "cell_type": "code",
      "metadata": {
        "colab": {
          "base_uri": "https://localhost:8080/"
        },
        "id": "naQY4FQ8EAJz",
        "outputId": "1d8e7f37-34e6-405e-b5f6-e299511c6ea6"
      },
      "source": [
        "print(a_music_pun)\n"
      ],
      "execution_count": null,
      "outputs": [
        {
          "output_type": "stream",
          "text": [
            "\n",
            "Two windmills are standing in a field and one asks the other, \n",
            "\"What kind of music do you like?\"  \n",
            "\n",
            "The other says, \n",
            "\"I'm a big metal fan.\"\n",
            "\n"
          ],
          "name": "stdout"
        }
      ]
    },
    {
      "cell_type": "code",
      "metadata": {
        "colab": {
          "base_uri": "https://localhost:8080/"
        },
        "id": "XIxfqEB5EeBV",
        "outputId": "5e114b93-cff2-4504-a068-bb758214ecc1"
      },
      "source": [
        "print(a_music_pun)\n",
        "len(a_music_pun)\n"
      ],
      "execution_count": null,
      "outputs": [
        {
          "output_type": "stream",
          "text": [
            "\n",
            "Two windmills are standing in a field and one asks the other, \n",
            "\"What kind of music do you like?\"  \n",
            "\n",
            "The other says, \n",
            "\"I'm a big metal fan.\"\n",
            "\n"
          ],
          "name": "stdout"
        },
        {
          "output_type": "execute_result",
          "data": {
            "text/plain": [
              "141"
            ]
          },
          "metadata": {
            "tags": []
          },
          "execution_count": 151
        }
      ]
    },
    {
      "cell_type": "code",
      "metadata": {
        "colab": {
          "base_uri": "https://localhost:8080/",
          "height": 35
        },
        "id": "-ck3EAHLFm4b",
        "outputId": "d0917349-becd-440f-8910-1aa09d0a4c9f"
      },
      "source": [
        "multiline_string = \"\"\"a\n",
        "b\"\"\"\n",
        "multiline_string\n"
      ],
      "execution_count": null,
      "outputs": [
        {
          "output_type": "execute_result",
          "data": {
            "application/vnd.google.colaboratory.intrinsic+json": {
              "type": "string"
            },
            "text/plain": [
              "'a\\nb'"
            ]
          },
          "metadata": {
            "tags": []
          },
          "execution_count": 153
        }
      ]
    },
    {
      "cell_type": "code",
      "metadata": {
        "colab": {
          "base_uri": "https://localhost:8080/"
        },
        "id": "xU4iAnMNGVnJ",
        "outputId": "e9ca644e-f2e8-4d98-ae41-143e35c8f6d9"
      },
      "source": [
        "len(multiline_string)\n"
      ],
      "execution_count": null,
      "outputs": [
        {
          "output_type": "execute_result",
          "data": {
            "text/plain": [
              "3"
            ]
          },
          "metadata": {
            "tags": []
          },
          "execution_count": 154
        }
      ]
    },
    {
      "cell_type": "code",
      "metadata": {
        "colab": {
          "base_uri": "https://localhost:8080/"
        },
        "id": "W0lliksYGnLO",
        "outputId": "5da455b2-ffed-4ff1-9472-61fb6e49bd1a"
      },
      "source": [
        "#A string can be converted into a list of characters using list function.\n",
        "\n",
        "list(multiline_string)\n"
      ],
      "execution_count": null,
      "outputs": [
        {
          "output_type": "execute_result",
          "data": {
            "text/plain": [
              "['a', '\\n', 'b']"
            ]
          },
          "metadata": {
            "tags": []
          },
          "execution_count": 156
        }
      ]
    },
    {
      "cell_type": "code",
      "metadata": {
        "colab": {
          "base_uri": "https://localhost:8080/",
          "height": 35
        },
        "id": "MFIqT4XnG-2I",
        "outputId": "9885b62f-8383-4bbe-97ce-e4a39e36dd6c"
      },
      "source": [
        "today = \"Saturday\"\n",
        "today[0]"
      ],
      "execution_count": null,
      "outputs": [
        {
          "output_type": "execute_result",
          "data": {
            "application/vnd.google.colaboratory.intrinsic+json": {
              "type": "string"
            },
            "text/plain": [
              "'S'"
            ]
          },
          "metadata": {
            "tags": []
          },
          "execution_count": 157
        }
      ]
    },
    {
      "cell_type": "code",
      "metadata": {
        "colab": {
          "base_uri": "https://localhost:8080/"
        },
        "id": "CQiOWmvbHKD-",
        "outputId": "5027ee86-7b51-44eb-9683-ffaa3614001b"
      },
      "source": [
        "len(today)"
      ],
      "execution_count": null,
      "outputs": [
        {
          "output_type": "execute_result",
          "data": {
            "text/plain": [
              "8"
            ]
          },
          "metadata": {
            "tags": []
          },
          "execution_count": 161
        }
      ]
    },
    {
      "cell_type": "code",
      "metadata": {
        "colab": {
          "base_uri": "https://localhost:8080/",
          "height": 35
        },
        "id": "nX0nbV_kHLki",
        "outputId": "6451a8c2-2d5e-4fff-de44-ac0d6d061fbd"
      },
      "source": [
        "# You can access a part of a string using by providing a start:end range instead of a single index in [].\n",
        "\n",
        "today[5:8]\n"
      ],
      "execution_count": null,
      "outputs": [
        {
          "output_type": "execute_result",
          "data": {
            "application/vnd.google.colaboratory.intrinsic+json": {
              "type": "string"
            },
            "text/plain": [
              "'day'"
            ]
          },
          "metadata": {
            "tags": []
          },
          "execution_count": 162
        }
      ]
    },
    {
      "cell_type": "code",
      "metadata": {
        "colab": {
          "base_uri": "https://localhost:8080/"
        },
        "id": "uNWID42-HyWH",
        "outputId": "e5856cac-bfea-4767-9da5-08906b97dce6"
      },
      "source": [
        "# You can also check whether a string contains a some text using the in operator.\n",
        "\n",
        "'day' in today\n"
      ],
      "execution_count": null,
      "outputs": [
        {
          "output_type": "execute_result",
          "data": {
            "text/plain": [
              "True"
            ]
          },
          "metadata": {
            "tags": []
          },
          "execution_count": 164
        }
      ]
    },
    {
      "cell_type": "code",
      "metadata": {
        "colab": {
          "base_uri": "https://localhost:8080/"
        },
        "id": "JfQbMGbNH_fP",
        "outputId": "ce435d57-7f24-4550-b2a8-dcf7d021fd6e"
      },
      "source": [
        "'xyz' in today"
      ],
      "execution_count": null,
      "outputs": [
        {
          "output_type": "execute_result",
          "data": {
            "text/plain": [
              "False"
            ]
          },
          "metadata": {
            "tags": []
          },
          "execution_count": 165
        }
      ]
    },
    {
      "cell_type": "code",
      "metadata": {
        "id": "xYXlZIBVIEfz"
      },
      "source": [
        "full_name = \"Derek O'Brien\"\n",
        "greeting = \"Hello\"\n"
      ],
      "execution_count": null,
      "outputs": []
    },
    {
      "cell_type": "code",
      "metadata": {
        "colab": {
          "base_uri": "https://localhost:8080/",
          "height": 35
        },
        "id": "wWdC2wdUK8vZ",
        "outputId": "7bedc4ff-6062-4f75-e82c-652d781fd71a"
      },
      "source": [
        "full_name + greeting"
      ],
      "execution_count": null,
      "outputs": [
        {
          "output_type": "execute_result",
          "data": {
            "application/vnd.google.colaboratory.intrinsic+json": {
              "type": "string"
            },
            "text/plain": [
              "\"Derek O'BrienHello\""
            ]
          },
          "metadata": {
            "tags": []
          },
          "execution_count": 167
        }
      ]
    },
    {
      "cell_type": "code",
      "metadata": {
        "colab": {
          "base_uri": "https://localhost:8080/",
          "height": 35
        },
        "id": "1g6Ni_NyK-5v",
        "outputId": "28b00c7c-8cf8-4d17-ed21-a0e51d49caf4"
      },
      "source": [
        "full_name + \"   \" +greeting +\"!\""
      ],
      "execution_count": null,
      "outputs": [
        {
          "output_type": "execute_result",
          "data": {
            "application/vnd.google.colaboratory.intrinsic+json": {
              "type": "string"
            },
            "text/plain": [
              "\"Derek O'Brien   Hello!\""
            ]
          },
          "metadata": {
            "tags": []
          },
          "execution_count": 169
        }
      ]
    },
    {
      "cell_type": "code",
      "metadata": {
        "colab": {
          "base_uri": "https://localhost:8080/",
          "height": 35
        },
        "id": "2XZKQmZnLLB6",
        "outputId": "2f8a3d00-da43-4354-e827-7106e8810a22"
      },
      "source": [
        "today.lower()"
      ],
      "execution_count": null,
      "outputs": [
        {
          "output_type": "execute_result",
          "data": {
            "application/vnd.google.colaboratory.intrinsic+json": {
              "type": "string"
            },
            "text/plain": [
              "'saturday'"
            ]
          },
          "metadata": {
            "tags": []
          },
          "execution_count": 170
        }
      ]
    },
    {
      "cell_type": "code",
      "metadata": {
        "colab": {
          "base_uri": "https://localhost:8080/",
          "height": 35
        },
        "id": "GWQoSG2OLRYx",
        "outputId": "b5e97d01-4d08-41d0-ae94-ee7fbccbcb31"
      },
      "source": [
        "\"saturday\".upper()\n"
      ],
      "execution_count": null,
      "outputs": [
        {
          "output_type": "execute_result",
          "data": {
            "application/vnd.google.colaboratory.intrinsic+json": {
              "type": "string"
            },
            "text/plain": [
              "'SATURDAY'"
            ]
          },
          "metadata": {
            "tags": []
          },
          "execution_count": 171
        }
      ]
    },
    {
      "cell_type": "code",
      "metadata": {
        "colab": {
          "base_uri": "https://localhost:8080/",
          "height": 35
        },
        "id": "Gg7nD8GzLjtq",
        "outputId": "3d696ad4-d266-40e4-d5bb-218f0a80959e"
      },
      "source": [
        "\"oyehoye\".capitalize()"
      ],
      "execution_count": null,
      "outputs": [
        {
          "output_type": "execute_result",
          "data": {
            "application/vnd.google.colaboratory.intrinsic+json": {
              "type": "string"
            },
            "text/plain": [
              "'Oyehoye'"
            ]
          },
          "metadata": {
            "tags": []
          },
          "execution_count": 172
        }
      ]
    },
    {
      "cell_type": "code",
      "metadata": {
        "id": "yD59SehzLsSQ"
      },
      "source": [
        "another_day = today.replace(\"Satur\", \"Wednes\")\n"
      ],
      "execution_count": null,
      "outputs": []
    },
    {
      "cell_type": "code",
      "metadata": {
        "colab": {
          "base_uri": "https://localhost:8080/",
          "height": 35
        },
        "id": "7h32Qb39MoV_",
        "outputId": "b6d3ffa3-cdd0-41de-a166-37326805d3d1"
      },
      "source": [
        "another_day"
      ],
      "execution_count": null,
      "outputs": [
        {
          "output_type": "execute_result",
          "data": {
            "application/vnd.google.colaboratory.intrinsic+json": {
              "type": "string"
            },
            "text/plain": [
              "'Wednesday'"
            ]
          },
          "metadata": {
            "tags": []
          },
          "execution_count": 174
        }
      ]
    },
    {
      "cell_type": "code",
      "metadata": {
        "colab": {
          "base_uri": "https://localhost:8080/",
          "height": 35
        },
        "id": "MreoN0-KMrGB",
        "outputId": "fbbf2e5c-a751-4ed2-a4b7-979e24d0b297"
      },
      "source": [
        "today"
      ],
      "execution_count": null,
      "outputs": [
        {
          "output_type": "execute_result",
          "data": {
            "application/vnd.google.colaboratory.intrinsic+json": {
              "type": "string"
            },
            "text/plain": [
              "'Saturday'"
            ]
          },
          "metadata": {
            "tags": []
          },
          "execution_count": 175
        }
      ]
    },
    {
      "cell_type": "code",
      "metadata": {
        "colab": {
          "base_uri": "https://localhost:8080/"
        },
        "id": "VuuWj-2OMtyo",
        "outputId": "7e2bf025-5327-4051-d571-dc73421e4adb"
      },
      "source": [
        "#The .split method splits a string into a list of strings at every occurrence of provided character(s).\n",
        "\"Sun,Mon,Tue,Wed,Thu,Fri,Sat\".split(\",\")\n",
        "\n"
      ],
      "execution_count": null,
      "outputs": [
        {
          "output_type": "execute_result",
          "data": {
            "text/plain": [
              "['Sun', 'Mon', 'Tue', 'Wed', 'Thu', 'Fri', 'Sat']"
            ]
          },
          "metadata": {
            "tags": []
          },
          "execution_count": 177
        }
      ]
    },
    {
      "cell_type": "code",
      "metadata": {
        "colab": {
          "base_uri": "https://localhost:8080/",
          "height": 35
        },
        "id": "BjrMiv66Y9a5",
        "outputId": "425dd78b-fb85-44de-df13-f4674fbce871"
      },
      "source": [
        "#The .strip method removes whitespace characters from the beginning and end of a string.\n",
        "\n",
        "a_long_line = \"       This is a long line with some space before, after,     and some space in the middle..    \"\n",
        "a_long_line"
      ],
      "execution_count": 2,
      "outputs": [
        {
          "output_type": "execute_result",
          "data": {
            "application/vnd.google.colaboratory.intrinsic+json": {
              "type": "string"
            },
            "text/plain": [
              "'       This is a long line with some space before, after,     and some space in the middle..    '"
            ]
          },
          "metadata": {
            "tags": []
          },
          "execution_count": 2
        }
      ]
    },
    {
      "cell_type": "code",
      "metadata": {
        "colab": {
          "base_uri": "https://localhost:8080/",
          "height": 35
        },
        "id": "HbPozAJTZMX-",
        "outputId": "d2f09629-926e-4fd6-c904-2b4642f131f6"
      },
      "source": [
        "a_long_line_stripped = a_long_line.strip()\n",
        "a_long_line_stripped"
      ],
      "execution_count": 3,
      "outputs": [
        {
          "output_type": "execute_result",
          "data": {
            "application/vnd.google.colaboratory.intrinsic+json": {
              "type": "string"
            },
            "text/plain": [
              "'This is a long line with some space before, after,     and some space in the middle..'"
            ]
          },
          "metadata": {
            "tags": []
          },
          "execution_count": 3
        }
      ]
    },
    {
      "cell_type": "code",
      "metadata": {
        "id": "WaF_76HsZQZ3",
        "colab": {
          "base_uri": "https://localhost:8080/"
        },
        "outputId": "46e03234-ec9c-47f9-d8a2-a7d7f8d7df43"
      },
      "source": [
        "len(a_long_line_stripped)\n",
        "\n"
      ],
      "execution_count": 4,
      "outputs": [
        {
          "output_type": "execute_result",
          "data": {
            "text/plain": [
              "85"
            ]
          },
          "metadata": {
            "tags": []
          },
          "execution_count": 4
        }
      ]
    },
    {
      "cell_type": "markdown",
      "metadata": {
        "id": "f2ct2DwxIj59"
      },
      "source": [
        "##List"
      ]
    },
    {
      "cell_type": "code",
      "metadata": {
        "id": "XxrQCluJLgsS"
      },
      "source": [
        "fruits = ['apple','banana','cherry']"
      ],
      "execution_count": 5,
      "outputs": []
    },
    {
      "cell_type": "code",
      "metadata": {
        "colab": {
          "base_uri": "https://localhost:8080/"
        },
        "id": "YNZsWhJFI2I2",
        "outputId": "59a7a2c6-c86b-457c-c048-76bddbfffca3"
      },
      "source": [
        "fruits"
      ],
      "execution_count": 6,
      "outputs": [
        {
          "output_type": "execute_result",
          "data": {
            "text/plain": [
              "['apple', 'banana', 'cherry']"
            ]
          },
          "metadata": {
            "tags": []
          },
          "execution_count": 6
        }
      ]
    },
    {
      "cell_type": "code",
      "metadata": {
        "colab": {
          "base_uri": "https://localhost:8080/"
        },
        "id": "FWm9tYmYI3FR",
        "outputId": "e5970eed-8cab-42e7-f1ad-afef1b3e3ffe"
      },
      "source": [
        "a_list = ['23','hello',None,3.14,fruits,3<=5]\n",
        "a_list"
      ],
      "execution_count": 7,
      "outputs": [
        {
          "output_type": "execute_result",
          "data": {
            "text/plain": [
              "['23', 'hello', None, 3.14, ['apple', 'banana', 'cherry'], True]"
            ]
          },
          "metadata": {
            "tags": []
          },
          "execution_count": 7
        }
      ]
    },
    {
      "cell_type": "code",
      "metadata": {
        "colab": {
          "base_uri": "https://localhost:8080/"
        },
        "id": "fFCCeDKfKRoR",
        "outputId": "3201aa26-c8a6-482c-b86a-7d4461e641e9"
      },
      "source": [
        "empty_list = []\n",
        "empty_list"
      ],
      "execution_count": 8,
      "outputs": [
        {
          "output_type": "execute_result",
          "data": {
            "text/plain": [
              "[]"
            ]
          },
          "metadata": {
            "tags": []
          },
          "execution_count": 8
        }
      ]
    },
    {
      "cell_type": "code",
      "metadata": {
        "colab": {
          "base_uri": "https://localhost:8080/"
        },
        "id": "co-wv4pXKZvJ",
        "outputId": "9b96ed19-7026-4fd2-b0fa-862fbadfd610"
      },
      "source": [
        "len(fruits)"
      ],
      "execution_count": 9,
      "outputs": [
        {
          "output_type": "execute_result",
          "data": {
            "text/plain": [
              "3"
            ]
          },
          "metadata": {
            "tags": []
          },
          "execution_count": 9
        }
      ]
    },
    {
      "cell_type": "code",
      "metadata": {
        "colab": {
          "base_uri": "https://localhost:8080/"
        },
        "id": "gE5GljVXKdeI",
        "outputId": "e591bf22-fa99-4087-e89d-d66e988e897d"
      },
      "source": [
        "a_list[2:5]"
      ],
      "execution_count": 10,
      "outputs": [
        {
          "output_type": "execute_result",
          "data": {
            "text/plain": [
              "[None, 3.14, ['apple', 'banana', 'cherry']]"
            ]
          },
          "metadata": {
            "tags": []
          },
          "execution_count": 10
        }
      ]
    },
    {
      "cell_type": "code",
      "metadata": {
        "colab": {
          "base_uri": "https://localhost:8080/"
        },
        "id": "27-pH2_eLVoy",
        "outputId": "17176fdd-8a78-4e8a-a19d-c6f7cd18cb0b"
      },
      "source": [
        "a_list[2:10]"
      ],
      "execution_count": 11,
      "outputs": [
        {
          "output_type": "execute_result",
          "data": {
            "text/plain": [
              "[None, 3.14, ['apple', 'banana', 'cherry'], True]"
            ]
          },
          "metadata": {
            "tags": []
          },
          "execution_count": 11
        }
      ]
    },
    {
      "cell_type": "code",
      "metadata": {
        "colab": {
          "base_uri": "https://localhost:8080/"
        },
        "id": "HRa8hE9HLXll",
        "outputId": "d33f2740-e860-4b6e-a2ec-b2d09d38cecc"
      },
      "source": [
        "a_list[1:]"
      ],
      "execution_count": 13,
      "outputs": [
        {
          "output_type": "execute_result",
          "data": {
            "text/plain": [
              "['hello', None, 3.14, ['apple', 'banana', 'cherry'], True]"
            ]
          },
          "metadata": {
            "tags": []
          },
          "execution_count": 13
        }
      ]
    },
    {
      "cell_type": "code",
      "metadata": {
        "colab": {
          "base_uri": "https://localhost:8080/"
        },
        "id": "kOPyB61_LcQe",
        "outputId": "4f419cc0-64af-4b04-98a3-49fc5fab8a0f"
      },
      "source": [
        "a_list[:]"
      ],
      "execution_count": 14,
      "outputs": [
        {
          "output_type": "execute_result",
          "data": {
            "text/plain": [
              "['23', 'hello', None, 3.14, ['apple', 'banana', 'cherry'], True]"
            ]
          },
          "metadata": {
            "tags": []
          },
          "execution_count": 14
        }
      ]
    },
    {
      "cell_type": "code",
      "metadata": {
        "colab": {
          "base_uri": "https://localhost:8080/"
        },
        "id": "pXlo4cucLnOF",
        "outputId": "5ea7ea2f-d9e3-4963-8aed-feab6fbb6dbf"
      },
      "source": [
        "a_list"
      ],
      "execution_count": 15,
      "outputs": [
        {
          "output_type": "execute_result",
          "data": {
            "text/plain": [
              "['23', 'hello', None, 3.14, ['apple', 'banana', 'cherry'], True]"
            ]
          },
          "metadata": {
            "tags": []
          },
          "execution_count": 15
        }
      ]
    },
    {
      "cell_type": "code",
      "metadata": {
        "colab": {
          "base_uri": "https://localhost:8080/"
        },
        "id": "v_chjbrILohv",
        "outputId": "b472b9c0-1149-4421-fb00-881e76284d24"
      },
      "source": [
        "a_list[:len(a_list)]"
      ],
      "execution_count": 22,
      "outputs": [
        {
          "output_type": "execute_result",
          "data": {
            "text/plain": [
              "['23', 'hello', None, 3.14, ['apple', 'banana', 'cherry'], True]"
            ]
          },
          "metadata": {
            "tags": []
          },
          "execution_count": 22
        }
      ]
    },
    {
      "cell_type": "code",
      "metadata": {
        "colab": {
          "base_uri": "https://localhost:8080/"
        },
        "id": "c6ISompfLqrW",
        "outputId": "8e79acb3-5196-44f6-c458-93c2cdf0c8b5"
      },
      "source": [
        "len(a_list)"
      ],
      "execution_count": 18,
      "outputs": [
        {
          "output_type": "execute_result",
          "data": {
            "text/plain": [
              "6"
            ]
          },
          "metadata": {
            "tags": []
          },
          "execution_count": 18
        }
      ]
    },
    {
      "cell_type": "code",
      "metadata": {
        "colab": {
          "base_uri": "https://localhost:8080/"
        },
        "id": "7RPWz0_FLyuT",
        "outputId": "415eea67-939c-4ebf-cc56-674e4622a120"
      },
      "source": [
        "a_list[-2:-5]"
      ],
      "execution_count": 23,
      "outputs": [
        {
          "output_type": "execute_result",
          "data": {
            "text/plain": [
              "[]"
            ]
          },
          "metadata": {
            "tags": []
          },
          "execution_count": 23
        }
      ]
    },
    {
      "cell_type": "code",
      "metadata": {
        "colab": {
          "base_uri": "https://localhost:8080/"
        },
        "id": "pDrlpV5KMC43",
        "outputId": "418c3326-263f-434c-88bb-53964a846179"
      },
      "source": [
        "a_list[-5:-2]"
      ],
      "execution_count": 24,
      "outputs": [
        {
          "output_type": "execute_result",
          "data": {
            "text/plain": [
              "['hello', None, 3.14]"
            ]
          },
          "metadata": {
            "tags": []
          },
          "execution_count": 24
        }
      ]
    },
    {
      "cell_type": "code",
      "metadata": {
        "colab": {
          "base_uri": "https://localhost:8080/"
        },
        "id": "cbHp6Q8pMHAw",
        "outputId": "ecc015f3-c3f0-453a-dca1-8ae0cdaf32a2"
      },
      "source": [
        "a_list[1]='Hi'\n",
        "a_list"
      ],
      "execution_count": 25,
      "outputs": [
        {
          "output_type": "execute_result",
          "data": {
            "text/plain": [
              "['23', 'Hi', None, 3.14, ['apple', 'banana', 'cherry'], True]"
            ]
          },
          "metadata": {
            "tags": []
          },
          "execution_count": 25
        }
      ]
    },
    {
      "cell_type": "code",
      "metadata": {
        "colab": {
          "base_uri": "https://localhost:8080/"
        },
        "id": "bGcyUlfsMSIA",
        "outputId": "98b7c013-4ef2-44c1-b480-21e304875e4e"
      },
      "source": [
        "# append to add at end \n",
        "a_list.append('Mango')\n",
        "a_list"
      ],
      "execution_count": 26,
      "outputs": [
        {
          "output_type": "execute_result",
          "data": {
            "text/plain": [
              "['23', 'Hi', None, 3.14, ['apple', 'banana', 'cherry'], True, 'Mango']"
            ]
          },
          "metadata": {
            "tags": []
          },
          "execution_count": 26
        }
      ]
    },
    {
      "cell_type": "code",
      "metadata": {
        "colab": {
          "base_uri": "https://localhost:8080/"
        },
        "id": "vIvBICx9Mc-U",
        "outputId": "4123b3d9-2f47-4b21-88e9-5efcbf6a853d"
      },
      "source": [
        "a_list.insert(2,'hola')\n",
        "a_list"
      ],
      "execution_count": 27,
      "outputs": [
        {
          "output_type": "execute_result",
          "data": {
            "text/plain": [
              "['23', 'Hi', 'hola', None, 3.14, ['apple', 'banana', 'cherry'], True, 'Mango']"
            ]
          },
          "metadata": {
            "tags": []
          },
          "execution_count": 27
        }
      ]
    },
    {
      "cell_type": "markdown",
      "metadata": {
        "id": "xCZ3HUU1OIhu"
      },
      "source": [
        "### .remove()   by value\n",
        "    \n",
        "    .pop()   by index"
      ]
    },
    {
      "cell_type": "code",
      "metadata": {
        "colab": {
          "base_uri": "https://localhost:8080/"
        },
        "id": "aq9NWI2FNneO",
        "outputId": "c74acfea-d6a8-4817-b9f1-85cb56ca4062"
      },
      "source": [
        "a_list.remove('Hi')\n",
        "a_list"
      ],
      "execution_count": 30,
      "outputs": [
        {
          "output_type": "execute_result",
          "data": {
            "text/plain": [
              "['23', 'hola', None, 3.14, ['apple', 'banana', 'cherry'], True, 'Mango']"
            ]
          },
          "metadata": {
            "tags": []
          },
          "execution_count": 30
        }
      ]
    },
    {
      "cell_type": "code",
      "metadata": {
        "colab": {
          "base_uri": "https://localhost:8080/"
        },
        "id": "aZ3M0dk_NzLI",
        "outputId": "0809e92a-3976-44bb-8c74-fbcce62811f1"
      },
      "source": [
        "fruits.pop(1)\n",
        "fruits"
      ],
      "execution_count": 31,
      "outputs": [
        {
          "output_type": "execute_result",
          "data": {
            "text/plain": [
              "['apple', 'cherry']"
            ]
          },
          "metadata": {
            "tags": []
          },
          "execution_count": 31
        }
      ]
    },
    {
      "cell_type": "code",
      "metadata": {
        "colab": {
          "base_uri": "https://localhost:8080/"
        },
        "id": "7hFKM9vpOY7v",
        "outputId": "a4351b90-9f16-4b6a-c132-7bfa5bde8a1e"
      },
      "source": [
        "# in operator\n",
        "\"pineple\" in fruits\n"
      ],
      "execution_count": 34,
      "outputs": [
        {
          "output_type": "execute_result",
          "data": {
            "text/plain": [
              "False"
            ]
          },
          "metadata": {
            "tags": []
          },
          "execution_count": 34
        }
      ]
    },
    {
      "cell_type": "code",
      "metadata": {
        "colab": {
          "base_uri": "https://localhost:8080/"
        },
        "id": "BFRL5V0OOk59",
        "outputId": "f0d932cc-dfe9-4e29-9680-fc7042ced6fd"
      },
      "source": [
        "\"apple\" in fruits"
      ],
      "execution_count": 35,
      "outputs": [
        {
          "output_type": "execute_result",
          "data": {
            "text/plain": [
              "True"
            ]
          },
          "metadata": {
            "tags": []
          },
          "execution_count": 35
        }
      ]
    },
    {
      "cell_type": "markdown",
      "metadata": {
        "id": "7CqfsgKEOuwm"
      },
      "source": [
        "### concatination   (+) operator"
      ]
    },
    {
      "cell_type": "code",
      "metadata": {
        "colab": {
          "base_uri": "https://localhost:8080/"
        },
        "id": "CZCAHNyTOpV3",
        "outputId": "2a9d62bc-32c5-4775-f0d2-7bd88b8d63e7"
      },
      "source": [
        "fruits"
      ],
      "execution_count": 36,
      "outputs": [
        {
          "output_type": "execute_result",
          "data": {
            "text/plain": [
              "['apple', 'cherry']"
            ]
          },
          "metadata": {
            "tags": []
          },
          "execution_count": 36
        }
      ]
    },
    {
      "cell_type": "code",
      "metadata": {
        "colab": {
          "base_uri": "https://localhost:8080/"
        },
        "id": "pDrkyCi_O5OD",
        "outputId": "b9f7634f-e638-435e-9f01-25f0d55f1400"
      },
      "source": [
        "more_fruits = fruits + ['apple','grapes','guava']\n",
        "more_fruits"
      ],
      "execution_count": 37,
      "outputs": [
        {
          "output_type": "execute_result",
          "data": {
            "text/plain": [
              "['apple', 'cherry', 'apple', 'grapes', 'guava']"
            ]
          },
          "metadata": {
            "tags": []
          },
          "execution_count": 37
        }
      ]
    },
    {
      "cell_type": "code",
      "metadata": {
        "colab": {
          "base_uri": "https://localhost:8080/"
        },
        "id": "AXuB43w8PCOQ",
        "outputId": "6cd766c1-b6d0-4fa0-f540-d661acf26a4e"
      },
      "source": [
        "more_fruits.insert(2,[\"orange\",\"kiwi\"])\n",
        "more_fruits"
      ],
      "execution_count": 38,
      "outputs": [
        {
          "output_type": "execute_result",
          "data": {
            "text/plain": [
              "['apple', 'cherry', ['orange', 'kiwi'], 'apple', 'grapes', 'guava']"
            ]
          },
          "metadata": {
            "tags": []
          },
          "execution_count": 38
        }
      ]
    },
    {
      "cell_type": "code",
      "metadata": {
        "colab": {
          "base_uri": "https://localhost:8080/"
        },
        "id": "dJhRk59-PWj5",
        "outputId": "4210d182-858e-4b50-820b-18cac5cd0488"
      },
      "source": [
        "# reverse the order of elements in a list \n",
        "fruits[::-1]"
      ],
      "execution_count": 42,
      "outputs": [
        {
          "output_type": "execute_result",
          "data": {
            "text/plain": [
              "['cherry', 'apple']"
            ]
          },
          "metadata": {
            "tags": []
          },
          "execution_count": 42
        }
      ]
    },
    {
      "cell_type": "code",
      "metadata": {
        "id": "KhGUL9vMPvtK"
      },
      "source": [
        "# add elements of one list to the the end of another list   .extend()\n",
        "list1 = [\"A\",\"B\"]\n",
        "list2 = [\"C\",\"D\"]\n",
        "list1.extend(list2)\n"
      ],
      "execution_count": 43,
      "outputs": []
    },
    {
      "cell_type": "code",
      "metadata": {
        "colab": {
          "base_uri": "https://localhost:8080/"
        },
        "id": "5Ka5NFoUR6uX",
        "outputId": "cbbbc66b-e0fe-40c6-f5d2-4caed2c33aa6"
      },
      "source": [
        "list1"
      ],
      "execution_count": 44,
      "outputs": [
        {
          "output_type": "execute_result",
          "data": {
            "text/plain": [
              "['A', 'B', 'C', 'D']"
            ]
          },
          "metadata": {
            "tags": []
          },
          "execution_count": 44
        }
      ]
    },
    {
      "cell_type": "code",
      "metadata": {
        "colab": {
          "base_uri": "https://localhost:8080/"
        },
        "id": "q42PXk4QR8Cn",
        "outputId": "3a82199b-25c4-4602-986f-027228deddcf"
      },
      "source": [
        "#reverse  .reverse()"
      ],
      "execution_count": 45,
      "outputs": [
        {
          "output_type": "execute_result",
          "data": {
            "text/plain": [
              "['C', 'D']"
            ]
          },
          "metadata": {
            "tags": []
          },
          "execution_count": 45
        }
      ]
    },
    {
      "cell_type": "code",
      "metadata": {
        "id": "AzxXqxdfR9C4"
      },
      "source": [
        "list1.reverse()"
      ],
      "execution_count": 46,
      "outputs": []
    },
    {
      "cell_type": "code",
      "metadata": {
        "colab": {
          "base_uri": "https://localhost:8080/"
        },
        "id": "nxgPXTYjYygY",
        "outputId": "e461fe11-cfdc-4548-aba5-ffefaabd903c"
      },
      "source": [
        "list1"
      ],
      "execution_count": 47,
      "outputs": [
        {
          "output_type": "execute_result",
          "data": {
            "text/plain": [
              "['D', 'C', 'B', 'A']"
            ]
          },
          "metadata": {
            "tags": []
          },
          "execution_count": 47
        }
      ]
    },
    {
      "cell_type": "code",
      "metadata": {
        "colab": {
          "base_uri": "https://localhost:8080/"
        },
        "id": "PBdeeML4YzqG",
        "outputId": "cd857be5-956c-4b56-e034-e37c1a9d8704"
      },
      "source": [
        "list1.sort()\n",
        "list1"
      ],
      "execution_count": 48,
      "outputs": [
        {
          "output_type": "execute_result",
          "data": {
            "text/plain": [
              "['A', 'B', 'C', 'D']"
            ]
          },
          "metadata": {
            "tags": []
          },
          "execution_count": 48
        }
      ]
    },
    {
      "cell_type": "code",
      "metadata": {
        "colab": {
          "base_uri": "https://localhost:8080/"
        },
        "id": "hbOtGOVcY3XM",
        "outputId": "da393755-0b0b-4045-ed51-3d230990961b"
      },
      "source": [
        "list1.count(\"A\")\n"
      ],
      "execution_count": 55,
      "outputs": [
        {
          "output_type": "execute_result",
          "data": {
            "text/plain": [
              "1"
            ]
          },
          "metadata": {
            "tags": []
          },
          "execution_count": 55
        }
      ]
    },
    {
      "cell_type": "code",
      "metadata": {
        "id": "OwdU2xdWY7Yo"
      },
      "source": [
        "points = [1,\"AB\",\"ABC\",4, 2, 9, 7, 8, 9, 3, 1]\n",
        "\n",
        "x = points.count(\"AB\")"
      ],
      "execution_count": 59,
      "outputs": []
    },
    {
      "cell_type": "code",
      "metadata": {
        "colab": {
          "base_uri": "https://localhost:8080/"
        },
        "id": "zrBlqyVbaWjj",
        "outputId": "8a108e7e-07e9-41d4-b19e-f74190bc0836"
      },
      "source": [
        "x"
      ],
      "execution_count": 60,
      "outputs": [
        {
          "output_type": "execute_result",
          "data": {
            "text/plain": [
              "1"
            ]
          },
          "metadata": {
            "tags": []
          },
          "execution_count": 60
        }
      ]
    },
    {
      "cell_type": "code",
      "metadata": {
        "colab": {
          "base_uri": "https://localhost:8080/"
        },
        "id": "gyUXV26wevqH",
        "outputId": "a4094e96-700a-492d-8678-c5aaf7e6005d"
      },
      "source": [
        "person = dict(Name = \"Mansi\",Surname = \"Patel\",sex=\"Female\",age=30,married=\"True\")\n",
        "person"
      ],
      "execution_count": 64,
      "outputs": [
        {
          "output_type": "execute_result",
          "data": {
            "text/plain": [
              "{'Name': 'Mansi',\n",
              " 'Surname': 'Patel',\n",
              " 'age': 30,\n",
              " 'married': 'True',\n",
              " 'sex': 'Female'}"
            ]
          },
          "metadata": {
            "tags": []
          },
          "execution_count": 64
        }
      ]
    },
    {
      "cell_type": "code",
      "metadata": {
        "colab": {
          "base_uri": "https://localhost:8080/"
        },
        "id": "v2ihdHYDincV",
        "outputId": "49dc33a4-bce0-47df-8f0c-4383478f3edb"
      },
      "source": [
        "type(person)"
      ],
      "execution_count": 65,
      "outputs": [
        {
          "output_type": "execute_result",
          "data": {
            "text/plain": [
              "dict"
            ]
          },
          "metadata": {
            "tags": []
          },
          "execution_count": 65
        }
      ]
    },
    {
      "cell_type": "code",
      "metadata": {
        "id": "iuMCEoeUirho"
      },
      "source": [
        "# access values using key\n"
      ],
      "execution_count": null,
      "outputs": []
    },
    {
      "cell_type": "markdown",
      "metadata": {
        "id": "wCV65Hb-ImN9"
      },
      "source": [
        "## Control statments ---- if-else\n",
        "\n"
      ]
    },
    {
      "cell_type": "code",
      "metadata": {
        "colab": {
          "base_uri": "https://localhost:8080/"
        },
        "id": "I_o3bB-fIzWO",
        "outputId": "5fb28f20-1806-4d6b-bc74-87d0e7c95ab2"
      },
      "source": [
        "a_number = 34\n",
        "if a_number %2==0:\n",
        "  print(\"we are inside a if block\")\n",
        "  print(f\"The given number {a_number} is even\")\n"
      ],
      "execution_count": 1,
      "outputs": [
        {
          "output_type": "stream",
          "text": [
            "we are inside a if block\n",
            "The given number 34 is even\n"
          ],
          "name": "stdout"
        }
      ]
    },
    {
      "cell_type": "code",
      "metadata": {
        "colab": {
          "base_uri": "https://localhost:8080/"
        },
        "id": "uiq9pLDZJXNB",
        "outputId": "186b773d-06d6-4f00-e851-dc799fab2303"
      },
      "source": [
        "today = \"Sunday\"\n",
        "if today == \"Monday\":\n",
        "  print(\"Today is monday\")\n",
        "elif today == \"Tuesday\":\n",
        "  print(\"Today is tuesday\")\n",
        "elif today == \"Wednesday\":\n",
        "  print(\"Today is wednesday\")\n",
        "elif today == \"Sunday\":\n",
        "  print(\"Today is day of Sun sunday\")"
      ],
      "execution_count": 4,
      "outputs": [
        {
          "output_type": "stream",
          "text": [
            "Today is day of Sun sunday\n"
          ],
          "name": "stdout"
        }
      ]
    },
    {
      "cell_type": "code",
      "metadata": {
        "colab": {
          "base_uri": "https://localhost:8080/"
        },
        "id": "dtmAYhMMTP07",
        "outputId": "2b9b04f6-f9e3-4b1c-da21-d0ec8173ac73"
      },
      "source": [
        "a_number = 30\n",
        "if a_number % 3 ==0 and a_number % 5 ==0:\n",
        "  print(f\"The number {a_number} is divisable by 3 and 5\")\n",
        "elif not a_number % 5 == 0:\n",
        "  print(f\"the number {a_number} is not divisable by 5 \")\n"
      ],
      "execution_count": 10,
      "outputs": [
        {
          "output_type": "stream",
          "text": [
            "The number 30 is divisable by 3 and 5\n"
          ],
          "name": "stdout"
        }
      ]
    },
    {
      "cell_type": "code",
      "metadata": {
        "id": "vycT_VWFUlAu"
      },
      "source": [
        "# non-boolean condition\n",
        "# 0,\"\",{},[] \n",
        "# it means falsy values evaluate to false and others as True\n",
        "\n"
      ],
      "execution_count": 11,
      "outputs": []
    },
    {
      "cell_type": "code",
      "metadata": {
        "colab": {
          "base_uri": "https://localhost:8080/"
        },
        "id": "Afrn5EAeWRdz",
        "outputId": "a5c08fa7-a840-4ad4-882d-0f42551c85f1"
      },
      "source": [
        "if \"\":\n",
        "  print(\"the condition is evaluated to True\")\n",
        "else:\n",
        "  print(\"the condition is evaluated to false\")\n"
      ],
      "execution_count": 14,
      "outputs": [
        {
          "output_type": "stream",
          "text": [
            "the condition is evaluated to false\n"
          ],
          "name": "stdout"
        }
      ]
    },
    {
      "cell_type": "code",
      "metadata": {
        "colab": {
          "base_uri": "https://localhost:8080/"
        },
        "id": "fyZvss1-WkUQ",
        "outputId": "74affbab-e3f1-40e2-e0f6-73fca341fd50"
      },
      "source": [
        "if None:\n",
        "  print(\"The condition evaluated to True\")\n",
        "else:\n",
        "  print(\"The condition is False\")"
      ],
      "execution_count": 18,
      "outputs": [
        {
          "output_type": "stream",
          "text": [
            "The condition is False\n"
          ],
          "name": "stdout"
        }
      ]
    },
    {
      "cell_type": "code",
      "metadata": {
        "colab": {
          "base_uri": "https://localhost:8080/"
        },
        "id": "kwwOGm62XIyH",
        "outputId": "ef57cef3-4cbb-442c-db2e-f1bf6c07f642"
      },
      "source": [
        "# while loop\n",
        "\n",
        "# factorial of number\n",
        "\n",
        "%%time\n",
        "result = 1\n",
        "i = 1\n",
        "\n",
        "while i <= 100:\n",
        "  result = result * i\n",
        "  print(f\"i {i} th result is {result}\")\n",
        "  i = i+1\n",
        "\n",
        "print(f\"the factorial of 10 is {result}\")"
      ],
      "execution_count": 28,
      "outputs": [
        {
          "output_type": "stream",
          "text": [
            "i 1 th result is 1\n",
            "i 2 th result is 2\n",
            "i 3 th result is 6\n",
            "i 4 th result is 24\n",
            "i 5 th result is 120\n",
            "i 6 th result is 720\n",
            "i 7 th result is 5040\n",
            "i 8 th result is 40320\n",
            "i 9 th result is 362880\n",
            "i 10 th result is 3628800\n",
            "i 11 th result is 39916800\n",
            "i 12 th result is 479001600\n",
            "i 13 th result is 6227020800\n",
            "i 14 th result is 87178291200\n",
            "i 15 th result is 1307674368000\n",
            "i 16 th result is 20922789888000\n",
            "i 17 th result is 355687428096000\n",
            "i 18 th result is 6402373705728000\n",
            "i 19 th result is 121645100408832000\n",
            "i 20 th result is 2432902008176640000\n",
            "i 21 th result is 51090942171709440000\n",
            "i 22 th result is 1124000727777607680000\n",
            "i 23 th result is 25852016738884976640000\n",
            "i 24 th result is 620448401733239439360000\n",
            "i 25 th result is 15511210043330985984000000\n",
            "i 26 th result is 403291461126605635584000000\n",
            "i 27 th result is 10888869450418352160768000000\n",
            "i 28 th result is 304888344611713860501504000000\n",
            "i 29 th result is 8841761993739701954543616000000\n",
            "i 30 th result is 265252859812191058636308480000000\n",
            "i 31 th result is 8222838654177922817725562880000000\n",
            "i 32 th result is 263130836933693530167218012160000000\n",
            "i 33 th result is 8683317618811886495518194401280000000\n",
            "i 34 th result is 295232799039604140847618609643520000000\n",
            "i 35 th result is 10333147966386144929666651337523200000000\n",
            "i 36 th result is 371993326789901217467999448150835200000000\n",
            "i 37 th result is 13763753091226345046315979581580902400000000\n",
            "i 38 th result is 523022617466601111760007224100074291200000000\n",
            "i 39 th result is 20397882081197443358640281739902897356800000000\n",
            "i 40 th result is 815915283247897734345611269596115894272000000000\n",
            "i 41 th result is 33452526613163807108170062053440751665152000000000\n",
            "i 42 th result is 1405006117752879898543142606244511569936384000000000\n",
            "i 43 th result is 60415263063373835637355132068513997507264512000000000\n",
            "i 44 th result is 2658271574788448768043625811014615890319638528000000000\n",
            "i 45 th result is 119622220865480194561963161495657715064383733760000000000\n",
            "i 46 th result is 5502622159812088949850305428800254892961651752960000000000\n",
            "i 47 th result is 258623241511168180642964355153611979969197632389120000000000\n",
            "i 48 th result is 12413915592536072670862289047373375038521486354677760000000000\n",
            "i 49 th result is 608281864034267560872252163321295376887552831379210240000000000\n",
            "i 50 th result is 30414093201713378043612608166064768844377641568960512000000000000\n",
            "i 51 th result is 1551118753287382280224243016469303211063259720016986112000000000000\n",
            "i 52 th result is 80658175170943878571660636856403766975289505440883277824000000000000\n",
            "i 53 th result is 4274883284060025564298013753389399649690343788366813724672000000000000\n",
            "i 54 th result is 230843697339241380472092742683027581083278564571807941132288000000000000\n",
            "i 55 th result is 12696403353658275925965100847566516959580321051449436762275840000000000000\n",
            "i 56 th result is 710998587804863451854045647463724949736497978881168458687447040000000000000\n",
            "i 57 th result is 40526919504877216755680601905432322134980384796226602145184481280000000000000\n",
            "i 58 th result is 2350561331282878571829474910515074683828862318181142924420699914240000000000000\n",
            "i 59 th result is 138683118545689835737939019720389406345902876772687432540821294940160000000000000\n",
            "i 60 th result is 8320987112741390144276341183223364380754172606361245952449277696409600000000000000\n",
            "i 61 th result is 507580213877224798800856812176625227226004528988036003099405939480985600000000000000\n",
            "i 62 th result is 31469973260387937525653122354950764088012280797258232192163168247821107200000000000000\n",
            "i 63 th result is 1982608315404440064116146708361898137544773690227268628106279599612729753600000000000000\n",
            "i 64 th result is 126886932185884164103433389335161480802865516174545192198801894375214704230400000000000000\n",
            "i 65 th result is 8247650592082470666723170306785496252186258551345437492922123134388955774976000000000000000\n",
            "i 66 th result is 544344939077443064003729240247842752644293064388798874532860126869671081148416000000000000000\n",
            "i 67 th result is 36471110918188685288249859096605464427167635314049524593701628500267962436943872000000000000000\n",
            "i 68 th result is 2480035542436830599600990418569171581047399201355367672371710738018221445712183296000000000000000\n",
            "i 69 th result is 171122452428141311372468338881272839092270544893520369393648040923257279754140647424000000000000000\n",
            "i 70 th result is 11978571669969891796072783721689098736458938142546425857555362864628009582789845319680000000000000000\n",
            "i 71 th result is 850478588567862317521167644239926010288584608120796235886430763388588680378079017697280000000000000000\n",
            "i 72 th result is 61234458376886086861524070385274672740778091784697328983823014963978384987221689274204160000000000000000\n",
            "i 73 th result is 4470115461512684340891257138125051110076800700282905015819080092370422104067183317016903680000000000000000\n",
            "i 74 th result is 330788544151938641225953028221253782145683251820934971170611926835411235700971565459250872320000000000000000\n",
            "i 75 th result is 24809140811395398091946477116594033660926243886570122837795894512655842677572867409443815424000000000000000000\n",
            "i 76 th result is 1885494701666050254987932260861146558230394535379329335672487982961844043495537923117729972224000000000000000000\n",
            "i 77 th result is 145183092028285869634070784086308284983740379224208358846781574688061991349156420080065207861248000000000000000000\n",
            "i 78 th result is 11324281178206297831457521158732046228731749579488251990048962825668835325234200766245086213177344000000000000000000\n",
            "i 79 th result is 894618213078297528685144171539831652069808216779571907213868063227837990693501860533361810841010176000000000000000000\n",
            "i 80 th result is 71569457046263802294811533723186532165584657342365752577109445058227039255480148842668944867280814080000000000000000000\n",
            "i 81 th result is 5797126020747367985879734231578109105412357244731625958745865049716390179693892056256184534249745940480000000000000000000\n",
            "i 82 th result is 475364333701284174842138206989404946643813294067993328617160934076743994734899148613007131808479167119360000000000000000000\n",
            "i 83 th result is 39455239697206586511897471180120610571436503407643446275224357528369751562996629334879591940103770870906880000000000000000000\n",
            "i 84 th result is 3314240134565353266999387579130131288000666286242049487118846032383059131291716864129885722968716753156177920000000000000000000\n",
            "i 85 th result is 281710411438055027694947944226061159480056634330574206405101912752560026159795933451040286452340924018275123200000000000000000000\n",
            "i 86 th result is 24227095383672732381765523203441259715284870552429381750838764496720162249742450276789464634901319465571660595200000000000000000000\n",
            "i 87 th result is 2107757298379527717213600518699389595229783738061356212322972511214654115727593174080683423236414793504734471782400000000000000000000\n",
            "i 88 th result is 185482642257398439114796845645546284380220968949399346684421580986889562184028199319100141244804501828416633516851200000000000000000000\n",
            "i 89 th result is 16507955160908461081216919262453619309839666236496541854913520707833171034378509739399912570787600662729080382999756800000000000000000000\n",
            "i 90 th result is 1485715964481761497309522733620825737885569961284688766942216863704985393094065876545992131370884059645617234469978112000000000000000000000\n",
            "i 91 th result is 135200152767840296255166568759495142147586866476906677791741734597153670771559994765685283954750449427751168336768008192000000000000000000000\n",
            "i 92 th result is 12438414054641307255475324325873553077577991715875414356840239582938137710983519518443046123837041347353107486982656753664000000000000000000000\n",
            "i 93 th result is 1156772507081641574759205162306240436214753229576413535186142281213246807121467315215203289516844845303838996289387078090752000000000000000000000\n",
            "i 94 th result is 108736615665674308027365285256786601004186803580182872307497374434045199869417927630229109214583415458560865651202385340530688000000000000000000000\n",
            "i 95 th result is 10329978488239059262599702099394727095397746340117372869212250571234293987594703124871765375385424468563282236864226607350415360000000000000000000000\n",
            "i 96 th result is 991677934870949689209571401541893801158183648651267795444376054838492222809091499987689476037000748982075094738965754305639874560000000000000000000000\n",
            "i 97 th result is 96192759682482119853328425949563698712343813919172976158104477319333745612481875498805879175589072651261284189679678167647067832320000000000000000000000\n",
            "i 98 th result is 9426890448883247745626185743057242473809693764078951663494238777294707070023223798882976159207729119823605850588608460429412647567360000000000000000000000\n",
            "i 99 th result is 933262154439441526816992388562667004907159682643816214685929638952175999932299156089414639761565182862536979208272237582511852109168640000000000000000000000\n",
            "i 100 th result is 93326215443944152681699238856266700490715968264381621468592963895217599993229915608941463976156518286253697920827223758251185210916864000000000000000000000000\n",
            "the factorial of 10 is 93326215443944152681699238856266700490715968264381621468592963895217599993229915608941463976156518286253697920827223758251185210916864000000000000000000000000\n",
            "CPU times: user 25.7 ms, sys: 4.22 ms, total: 29.9 ms\n",
            "Wall time: 28.6 ms\n"
          ],
          "name": "stdout"
        }
      ]
    },
    {
      "cell_type": "code",
      "metadata": {
        "colab": {
          "base_uri": "https://localhost:8080/"
        },
        "id": "IFTKTpkgZeMf",
        "outputId": "2502ab0f-dc51-4369-a90f-8411b22faf90"
      },
      "source": [
        "# \"while\" loops\n",
        "\n",
        "line = \"*\"\n",
        "max_length = 10\n",
        "\n",
        "while len(line) <= max_length:\n",
        "  print(line)\n",
        "  line += \"*\"\n",
        "\n",
        "while len(line) >0:\n",
        "  print(line)\n",
        "  line= line[:len(line)-1]"
      ],
      "execution_count": 9,
      "outputs": [
        {
          "output_type": "stream",
          "text": [
            "*\n",
            "**\n",
            "***\n",
            "****\n",
            "*****\n",
            "******\n",
            "*******\n",
            "********\n",
            "*********\n",
            "**********\n",
            "***********\n",
            "**********\n",
            "*********\n",
            "********\n",
            "*******\n",
            "******\n",
            "*****\n",
            "****\n",
            "***\n",
            "**\n",
            "*\n"
          ],
          "name": "stdout"
        }
      ]
    },
    {
      "cell_type": "markdown",
      "metadata": {
        "id": "AoclUjCcDTZw"
      },
      "source": [
        "### for loop"
      ]
    },
    {
      "cell_type": "code",
      "metadata": {
        "colab": {
          "base_uri": "https://localhost:8080/"
        },
        "id": "cldpazVfs3Og",
        "outputId": "71375380-5ae7-4376-91a6-44097de217b0"
      },
      "source": [
        "# \n",
        "days = ['Monday','Tueday',None,'Wednesday']\n",
        "\n",
        "for i in days:\n",
        "  print(i)"
      ],
      "execution_count": 1,
      "outputs": [
        {
          "output_type": "stream",
          "text": [
            "Monday\n",
            "Tueday\n",
            "None\n",
            "Wednesday\n"
          ],
          "name": "stdout"
        }
      ]
    },
    {
      "cell_type": "code",
      "metadata": {
        "colab": {
          "base_uri": "https://localhost:8080/"
        },
        "id": "Khio186ADltg",
        "outputId": "8340a982-3a43-46da-af17-dee1a0fb7533"
      },
      "source": [
        "# looping over string\n",
        "\n",
        "for char in 'Monday':\n",
        "  print(char)"
      ],
      "execution_count": 2,
      "outputs": [
        {
          "output_type": "stream",
          "text": [
            "M\n",
            "o\n",
            "n\n",
            "d\n",
            "a\n",
            "y\n"
          ],
          "name": "stdout"
        }
      ]
    },
    {
      "cell_type": "code",
      "metadata": {
        "colab": {
          "base_uri": "https://localhost:8080/"
        },
        "id": "NwWkXxtIDxJq",
        "outputId": "1d6ffbe0-216c-403b-8d05-33727fe053e4"
      },
      "source": [
        "# looping over List\n",
        "\n",
        "for fruit in ['Apple','Banana','Guava']:\n",
        "  print(f\"fruit name is :{fruit}\")\n",
        "\n"
      ],
      "execution_count": 5,
      "outputs": [
        {
          "output_type": "stream",
          "text": [
            "fruit name is :Apple\n",
            "fruit name is :Banana\n",
            "fruit name is :Guava\n"
          ],
          "name": "stdout"
        }
      ]
    },
    {
      "cell_type": "code",
      "metadata": {
        "colab": {
          "base_uri": "https://localhost:8080/"
        },
        "id": "p30OEVryGpwy",
        "outputId": "7e809bfe-d169-4419-f4f9-2fb12590b251"
      },
      "source": [
        "# looping over dictionary\n",
        "\n",
        "person = {\n",
        "    'name':'Mansi Patel',\n",
        "    'Sex':'Female',\n",
        "    'married':'Yes'\n",
        "}\n",
        "\n",
        "for key in person:\n",
        "  print(f\"Key:{key} and value: {person[key]}\")"
      ],
      "execution_count": 8,
      "outputs": [
        {
          "output_type": "stream",
          "text": [
            "Key:name and value: Mansi Patel\n",
            "Key:Sex and value: Female\n",
            "Key:married and value: Yes\n"
          ],
          "name": "stdout"
        }
      ]
    },
    {
      "cell_type": "code",
      "metadata": {
        "colab": {
          "base_uri": "https://localhost:8080/"
        },
        "id": "PC8ThaSEH3IM",
        "outputId": "e2d8fdd5-30f5-4e3b-f31f-97055aa9613f"
      },
      "source": [
        "for value in person.values():\n",
        "  print(value)"
      ],
      "execution_count": 10,
      "outputs": [
        {
          "output_type": "stream",
          "text": [
            "Mansi Patel\n",
            "Female\n",
            "Yes\n"
          ],
          "name": "stdout"
        }
      ]
    },
    {
      "cell_type": "code",
      "metadata": {
        "colab": {
          "base_uri": "https://localhost:8080/"
        },
        "id": "97k4oUL8IbtL",
        "outputId": "d5f94afe-f984-4b73-d4b3-76a13bc11076"
      },
      "source": [
        "for key in person.keys():\n",
        "  print(key)"
      ],
      "execution_count": 11,
      "outputs": [
        {
          "output_type": "stream",
          "text": [
            "name\n",
            "Sex\n",
            "married\n"
          ],
          "name": "stdout"
        }
      ]
    },
    {
      "cell_type": "code",
      "metadata": {
        "colab": {
          "base_uri": "https://localhost:8080/"
        },
        "id": "9zg9kOLQInUF",
        "outputId": "30f40d47-b72a-4134-ec30-98f2938528de"
      },
      "source": [
        "for key_values in person.items():\n",
        "  print(key_values)"
      ],
      "execution_count": 12,
      "outputs": [
        {
          "output_type": "stream",
          "text": [
            "('name', 'Mansi Patel')\n",
            "('Sex', 'Female')\n",
            "('married', 'Yes')\n"
          ],
          "name": "stdout"
        }
      ]
    },
    {
      "cell_type": "code",
      "metadata": {
        "colab": {
          "base_uri": "https://localhost:8080/"
        },
        "id": "7LzTFpybIyEm",
        "outputId": "7112f89d-2dfe-4105-ea4a-bbd3151761eb"
      },
      "source": [
        "# range \n",
        "for i in range(7):\n",
        "  print(i)"
      ],
      "execution_count": 13,
      "outputs": [
        {
          "output_type": "stream",
          "text": [
            "0\n",
            "1\n",
            "2\n",
            "3\n",
            "4\n",
            "5\n",
            "6\n"
          ],
          "name": "stdout"
        }
      ]
    },
    {
      "cell_type": "code",
      "metadata": {
        "colab": {
          "base_uri": "https://localhost:8080/"
        },
        "id": "rctxQWvJNapc",
        "outputId": "9e49dded-ea6c-4bee-edbc-28158fbccfa1"
      },
      "source": [
        "for i in range(3,10):\n",
        "  print(i)"
      ],
      "execution_count": 14,
      "outputs": [
        {
          "output_type": "stream",
          "text": [
            "3\n",
            "4\n",
            "5\n",
            "6\n",
            "7\n",
            "8\n",
            "9\n"
          ],
          "name": "stdout"
        }
      ]
    },
    {
      "cell_type": "code",
      "metadata": {
        "colab": {
          "base_uri": "https://localhost:8080/"
        },
        "id": "6efURn1kNg8-",
        "outputId": "04f1fdba-931a-4a6b-9469-bed457496352"
      },
      "source": [
        "for i in range(1,7,3):\n",
        "  print(i)"
      ],
      "execution_count": 15,
      "outputs": [
        {
          "output_type": "stream",
          "text": [
            "1\n",
            "4\n"
          ],
          "name": "stdout"
        }
      ]
    },
    {
      "cell_type": "code",
      "metadata": {
        "colab": {
          "base_uri": "https://localhost:8080/"
        },
        "id": "C20qeejGNtWX",
        "outputId": "63af88de-0e64-4b62-fd99-da1d199a1dea"
      },
      "source": [
        "# ranges are used to iterate over list\n",
        "\n",
        "l1 = ['Monday','tuesday','wednesday']\n",
        "\n",
        "for i in range(len(l1)):\n",
        "  print(f\"value at {i} th position is {l1[i]}\")\n"
      ],
      "execution_count": 4,
      "outputs": [
        {
          "output_type": "stream",
          "text": [
            "value at 0 th position is Monday\n",
            "value at 1 th position is tuesday\n",
            "value at 2 th position is wednesday\n"
          ],
          "name": "stdout"
        }
      ]
    },
    {
      "cell_type": "code",
      "metadata": {
        "colab": {
          "base_uri": "https://localhost:8080/"
        },
        "id": "jnznJ17iPAIo",
        "outputId": "8c1183b8-0213-4426-f0d2-f6dba1de61a4"
      },
      "source": [
        "#enumarate\n",
        "\n",
        "for i in enumerate(l1):\n",
        "  print(i)"
      ],
      "execution_count": 5,
      "outputs": [
        {
          "output_type": "stream",
          "text": [
            "(0, 'Monday')\n",
            "(1, 'tuesday')\n",
            "(2, 'wednesday')\n"
          ],
          "name": "stdout"
        }
      ]
    },
    {
      "cell_type": "code",
      "metadata": {
        "colab": {
          "base_uri": "https://localhost:8080/"
        },
        "id": "sNqi3HiyoD8e",
        "outputId": "c017f117-05a7-4d17-cf44-348e937da0f5"
      },
      "source": [
        "# break , pass , continue\n",
        "weekdays = [\"Monday\",\"Tuesday\",\"Wednesday\",\"Thursday\",\"Friday\"]\n",
        "\n",
        "for day in weekdays:\n",
        "  print(f\"today is {day}\")\n",
        "  if (day==\"Wednesday\"):\n",
        "    break"
      ],
      "execution_count": 8,
      "outputs": [
        {
          "output_type": "stream",
          "text": [
            "today is Monday\n",
            "today is Tuesday\n",
            "today is Wednesday\n"
          ],
          "name": "stdout"
        }
      ]
    },
    {
      "cell_type": "code",
      "metadata": {
        "colab": {
          "base_uri": "https://localhost:8080/"
        },
        "id": "6TTdRzubstUz",
        "outputId": "e1a42710-faf5-48df-8bae-af3799b2f347"
      },
      "source": [
        "weekdays = [\"Monday\",\"Tuesday\",\"Wednesday\",\"Thursday\",\"Friday\"]\n",
        "\n",
        "for day in weekdays:\n",
        "  if day == \"Wednesday\":\n",
        "    print(\"I dont work on wednesday!\")\n",
        "    continue\n",
        "  print(f\"Today is {day}\")"
      ],
      "execution_count": 11,
      "outputs": [
        {
          "output_type": "stream",
          "text": [
            "Today is Monday\n",
            "Today is Tuesday\n",
            "I dont work on wednesday!\n",
            "Today is Thursday\n",
            "Today is Friday\n"
          ],
          "name": "stdout"
        }
      ]
    },
    {
      "cell_type": "code",
      "metadata": {
        "id": "lLV6aVPWtVoa"
      },
      "source": [
        "for days in weekdays:\n",
        "  pass"
      ],
      "execution_count": 12,
      "outputs": []
    },
    {
      "cell_type": "markdown",
      "metadata": {
        "id": "wIOkmFFitrlH"
      },
      "source": [
        "### Nested for and while loop"
      ]
    },
    {
      "cell_type": "markdown",
      "metadata": {
        "id": "67QriTCP3qF-"
      },
      "source": [
        "##Functions"
      ]
    },
    {
      "cell_type": "code",
      "metadata": {
        "id": "qsBUf55Gte8c"
      },
      "source": [
        "def say_hello():\n",
        "  print(\"Hello there\")\n",
        "  print(\"How r u\")"
      ],
      "execution_count": 13,
      "outputs": []
    },
    {
      "cell_type": "code",
      "metadata": {
        "colab": {
          "base_uri": "https://localhost:8080/"
        },
        "id": "dECbnLmt3HAn",
        "outputId": "8a42a280-d313-4f22-897b-472f50d21e39"
      },
      "source": [
        "say_hello()"
      ],
      "execution_count": 14,
      "outputs": [
        {
          "output_type": "stream",
          "text": [
            "Hello there\n",
            "How r u\n"
          ],
          "name": "stdout"
        }
      ]
    },
    {
      "cell_type": "code",
      "metadata": {
        "colab": {
          "base_uri": "https://localhost:8080/"
        },
        "id": "wfu1doum3JhK",
        "outputId": "28465dbf-66ef-4d29-b60b-822dcb249036"
      },
      "source": [
        "print(say_hello())"
      ],
      "execution_count": 15,
      "outputs": [
        {
          "output_type": "stream",
          "text": [
            "Hello there\n",
            "How r u\n",
            "None\n"
          ],
          "name": "stdout"
        }
      ]
    },
    {
      "cell_type": "code",
      "metadata": {
        "id": "il6Ko4Bq3L5E"
      },
      "source": [
        "# function Arguments\n",
        "\n",
        "def say_hello(name):\n",
        "  print(f\"My name is {name}\")\n"
      ],
      "execution_count": 16,
      "outputs": []
    },
    {
      "cell_type": "code",
      "metadata": {
        "colab": {
          "base_uri": "https://localhost:8080/"
        },
        "id": "CW_oBC1c6P3I",
        "outputId": "e4e1181b-7c5e-42cf-9f93-13ef7391c573"
      },
      "source": [
        "say_hello(\"Mansi\")"
      ],
      "execution_count": 18,
      "outputs": [
        {
          "output_type": "stream",
          "text": [
            "My name is Mansi\n"
          ],
          "name": "stdout"
        }
      ]
    },
    {
      "cell_type": "code",
      "metadata": {
        "id": "q_oV61-N6RfZ"
      },
      "source": [
        "def filter_even(num_list):\n",
        "  result_list = []\n",
        "  for number in num_list:\n",
        "    if number % 2 ==0:\n",
        "      result_list.append(number)\n",
        "  return result_list "
      ],
      "execution_count": 19,
      "outputs": []
    },
    {
      "cell_type": "code",
      "metadata": {
        "colab": {
          "base_uri": "https://localhost:8080/"
        },
        "id": "52qG36gW7DKS",
        "outputId": "d150febc-1d8c-48a4-9cc0-3f62d9ec4682"
      },
      "source": [
        "filter_even([1,2,3,4,5,6,7])"
      ],
      "execution_count": 20,
      "outputs": [
        {
          "output_type": "execute_result",
          "data": {
            "text/plain": [
              "[2, 4, 6]"
            ]
          },
          "metadata": {
            "tags": []
          },
          "execution_count": 20
        }
      ]
    },
    {
      "cell_type": "code",
      "metadata": {
        "id": "sMo77PIE7Hhx"
      },
      "source": [
        "# writing great function in python\n",
        "# counting loan amount using python\n",
        "\n",
        "house_cost = 1,260,000\n",
        "down_payment = 300000\n",
        "interest_rate= 0.10\n",
        "year = 8\n",
        "\n",
        "\n"
      ],
      "execution_count": 2,
      "outputs": []
    },
    {
      "cell_type": "code",
      "metadata": {
        "id": "WBdOX_jWyPmU"
      },
      "source": [
        "# 1.simplest function without any parameters \n",
        "\n",
        "def loan_emi(amount):\n",
        "  emi = amount/12\n",
        "  print(f\"The EMI is {emi}\")\n",
        "  "
      ],
      "execution_count": 3,
      "outputs": []
    },
    {
      "cell_type": "code",
      "metadata": {
        "colab": {
          "base_uri": "https://localhost:8080/"
        },
        "id": "blTQyZdky_qg",
        "outputId": "f3d22b25-89aa-4f5a-897d-61ac20ca8216"
      },
      "source": [
        "loan_emi(1260000)"
      ],
      "execution_count": 4,
      "outputs": [
        {
          "output_type": "stream",
          "text": [
            "The EMI is 105000.0\n"
          ],
          "name": "stdout"
        }
      ]
    },
    {
      "cell_type": "code",
      "metadata": {
        "id": "bj9wF7q2zJxL"
      },
      "source": [
        "#Local variables and scope\n",
        " # duration of the loan , in months\n",
        "\n",
        "def loan_emi(amount,duration):\n",
        "  emi = amount/duration\n",
        "  print(f\"The EMI is {emi} \")"
      ],
      "execution_count": 5,
      "outputs": []
    },
    {
      "cell_type": "code",
      "metadata": {
        "colab": {
          "base_uri": "https://localhost:8080/"
        },
        "id": "B_OWaEKXzsML",
        "outputId": "0886dadf-22bd-4b33-da9c-ed081bf08620"
      },
      "source": [
        "loan_emi(1260000,10*12)"
      ],
      "execution_count": 8,
      "outputs": [
        {
          "output_type": "stream",
          "text": [
            "The EMI is 10500.0 \n"
          ],
          "name": "stdout"
        }
      ]
    },
    {
      "cell_type": "code",
      "metadata": {
        "colab": {
          "base_uri": "https://localhost:8080/"
        },
        "id": "xWo5uFWwz28n",
        "outputId": "23cf75a9-2027-4720-90ef-0929b10d15ac"
      },
      "source": [
        "loan_emi(1260000,8*12)"
      ],
      "execution_count": 9,
      "outputs": [
        {
          "output_type": "stream",
          "text": [
            "The EMI is 13125.0 \n"
          ],
          "name": "stdout"
        }
      ]
    },
    {
      "cell_type": "code",
      "metadata": {
        "id": "DBsqr3g8z7mU"
      },
      "source": [
        "#with return values\n",
        "def loan_emi(amount,duration):\n",
        "  emi = amount/duration\n",
        "  return emi"
      ],
      "execution_count": 10,
      "outputs": []
    },
    {
      "cell_type": "code",
      "metadata": {
        "id": "iArfkn9d0zQg"
      },
      "source": [
        "emi1 = loan_emi(1260000,8*12)"
      ],
      "execution_count": 13,
      "outputs": []
    },
    {
      "cell_type": "code",
      "metadata": {
        "id": "PqHdu_nt0-Er"
      },
      "source": [
        "emi2 = loan_emi(1260000,10*12)\n"
      ],
      "execution_count": 12,
      "outputs": []
    },
    {
      "cell_type": "code",
      "metadata": {
        "colab": {
          "base_uri": "https://localhost:8080/"
        },
        "id": "0RFsunw_1FeR",
        "outputId": "28ecdd86-ae4a-46df-8f56-a0ff26df1d0c"
      },
      "source": [
        "emi1,emi2"
      ],
      "execution_count": 14,
      "outputs": [
        {
          "output_type": "execute_result",
          "data": {
            "text/plain": [
              "(13125.0, 10500.0)"
            ]
          },
          "metadata": {
            "tags": []
          },
          "execution_count": 14
        }
      ]
    },
    {
      "cell_type": "code",
      "metadata": {
        "colab": {
          "base_uri": "https://localhost:8080/"
        },
        "id": "ME9cBGVh1H7Z",
        "outputId": "fb926278-259c-46af-ac3e-4e3dffa470b0"
      },
      "source": [
        "emi1-emi2\n"
      ],
      "execution_count": 15,
      "outputs": [
        {
          "output_type": "execute_result",
          "data": {
            "text/plain": [
              "2625.0"
            ]
          },
          "metadata": {
            "tags": []
          },
          "execution_count": 15
        }
      ]
    },
    {
      "cell_type": "code",
      "metadata": {
        "id": "JR4Cz3sR1OTP"
      },
      "source": [
        "# including loan_amount\n",
        "def loan_emi(amount,duration,down_payment=0):\n",
        "  loan_amount = amount - down_payment\n",
        "  emi = loan_amount/duration\n",
        "  return emi"
      ],
      "execution_count": 16,
      "outputs": []
    },
    {
      "cell_type": "code",
      "metadata": {
        "colab": {
          "base_uri": "https://localhost:8080/"
        },
        "id": "J6-CHJwX2Sa_",
        "outputId": "4d392bfa-7adb-4a16-ee75-83e32d9f4e52"
      },
      "source": [
        "emi1 = loan_emi(1260000,10*12,300000)\n",
        "emi1"
      ],
      "execution_count": 19,
      "outputs": [
        {
          "output_type": "execute_result",
          "data": {
            "text/plain": [
              "8000.0"
            ]
          },
          "metadata": {
            "tags": []
          },
          "execution_count": 19
        }
      ]
    },
    {
      "cell_type": "code",
      "metadata": {
        "colab": {
          "base_uri": "https://localhost:8080/"
        },
        "id": "U197u8TD3ro-",
        "outputId": "e7e49c6f-ff29-4433-f532-efece31f9de6"
      },
      "source": [
        "emi2 = loan_emi(1260000,8*12,300000)\n",
        "emi2"
      ],
      "execution_count": 20,
      "outputs": [
        {
          "output_type": "execute_result",
          "data": {
            "text/plain": [
              "10000.0"
            ]
          },
          "metadata": {
            "tags": []
          },
          "execution_count": 20
        }
      ]
    },
    {
      "cell_type": "code",
      "metadata": {
        "id": "eDKNIiEm31Kc"
      },
      "source": [
        "# add intrest calculate\n",
        "#*****************   EMI = P × r × (1 + r)n/((1 + r)n - 1) where P= Loan amount, r= interest rate, n=tenure in number of months\n",
        "\n",
        "def loan_emi(amount,interest_rate,duration,down_payment=0):\n",
        "  loan_amount =  amount- down_payment\n",
        "  emi = loan_amount*interest_rate*((1+interest_rate)**duration) /((1+interest_rate)**duration-1)\n",
        "  return emi"
      ],
      "execution_count": 21,
      "outputs": []
    },
    {
      "cell_type": "code",
      "metadata": {
        "colab": {
          "base_uri": "https://localhost:8080/"
        },
        "id": "pc_FfvK-5P89",
        "outputId": "e4a7c2e6-70ce-4037-9722-ca9d29e5ea92"
      },
      "source": [
        "# option 1 --- 8 months and 0.10 interest\n",
        "emi1 = loan_emi(1260000,0.10/12,8*12,300000)"
      ],
      "execution_count": 23,
      "outputs": [
        {
          "output_type": "execute_result",
          "data": {
            "text/plain": [
              "14567.19753389219"
            ]
          },
          "metadata": {
            "tags": []
          },
          "execution_count": 23
        }
      ]
    },
    {
      "cell_type": "code",
      "metadata": {
        "colab": {
          "base_uri": "https://localhost:8080/"
        },
        "id": "aIthLeB15aLN",
        "outputId": "39bed35b-ead0-4909-ff81-da05607f02ec"
      },
      "source": [
        "# option 2\n",
        "emi2 = loan_emi(1260000,0.08/12,10*12,300000)\n",
        "emi2\n",
        "\n"
      ],
      "execution_count": 30,
      "outputs": [
        {
          "output_type": "execute_result",
          "data": {
            "text/plain": [
              "11647.449058114344"
            ]
          },
          "metadata": {
            "tags": []
          },
          "execution_count": 30
        }
      ]
    },
    {
      "cell_type": "code",
      "metadata": {
        "id": "U1EQqgsx5-M7"
      },
      "source": [
        "# Modules and Library\n",
        "\n",
        "import math\n"
      ],
      "execution_count": 31,
      "outputs": []
    },
    {
      "cell_type": "code",
      "metadata": {
        "colab": {
          "base_uri": "https://localhost:8080/"
        },
        "id": "iR7f0p_t7XCB",
        "outputId": "74950640-8e13-4a0f-ac57-a5df3bf883c2"
      },
      "source": [
        "math.ceil(2.222)"
      ],
      "execution_count": 33,
      "outputs": [
        {
          "output_type": "execute_result",
          "data": {
            "text/plain": [
              "3"
            ]
          },
          "metadata": {
            "tags": []
          },
          "execution_count": 33
        }
      ]
    },
    {
      "cell_type": "code",
      "metadata": {
        "id": "Kq1WDOqu7ZAU"
      },
      "source": [
        "# exception -------------try -catch\n",
        "\n",
        "\n",
        "\n"
      ],
      "execution_count": null,
      "outputs": []
    },
    {
      "cell_type": "code",
      "metadata": {
        "id": "a-46s7kAF8Re"
      },
      "source": [
        "# function practice\n",
        "\n",
        "kanto = [12,34,55]\n",
        "johto = [91,88,64]\n",
        "hoenn = [102,43,37]\n",
        "sinnoh = [69,96,70]\n",
        "\n",
        "w1,w2,w3 = 0.3,0.5,0.7\n",
        "\n",
        "weights = [w1,w2,w3]"
      ],
      "execution_count": 2,
      "outputs": []
    },
    {
      "cell_type": "code",
      "metadata": {
        "id": "CSW_DGg6HPsi"
      },
      "source": [
        "def crop_yield(region,weights):\n",
        "  result = 0\n",
        "  for x,w in zip(region,weights):\n",
        "    result = result + x*w\n",
        "  return result"
      ],
      "execution_count": 3,
      "outputs": []
    },
    {
      "cell_type": "code",
      "metadata": {
        "colab": {
          "base_uri": "https://localhost:8080/"
        },
        "id": "gbHiVjqbH3kZ",
        "outputId": "a91cd28d-628f-4f79-9899-a563e3ab5f4e"
      },
      "source": [
        "crop_yield(johto,weights)"
      ],
      "execution_count": 7,
      "outputs": [
        {
          "output_type": "execute_result",
          "data": {
            "text/plain": [
              "116.1"
            ]
          },
          "metadata": {
            "tags": []
          },
          "execution_count": 7
        }
      ]
    },
    {
      "cell_type": "code",
      "metadata": {
        "id": "5Cd4HWQsIUfG"
      },
      "source": [
        ""
      ],
      "execution_count": null,
      "outputs": []
    },
    {
      "cell_type": "markdown",
      "metadata": {
        "id": "EVZ2-An4IoFu"
      },
      "source": [
        "# Numpy"
      ]
    },
    {
      "cell_type": "code",
      "metadata": {
        "id": "xV5URJUkIs5J"
      },
      "source": [
        "# to install numpy package\n",
        "#! pip install numpy --upgrade --quiet"
      ],
      "execution_count": null,
      "outputs": []
    },
    {
      "cell_type": "code",
      "metadata": {
        "id": "YmgPxzgaJBfW"
      },
      "source": [
        "import numpy as np \n"
      ],
      "execution_count": 2,
      "outputs": []
    },
    {
      "cell_type": "code",
      "metadata": {
        "id": "HITb7y81ONK4"
      },
      "source": [
        "kanto = np.array([12,34,55])\n",
        "weights = np.array([w1,w2,w3])\n",
        "\n"
      ],
      "execution_count": 10,
      "outputs": []
    },
    {
      "cell_type": "code",
      "metadata": {
        "colab": {
          "base_uri": "https://localhost:8080/"
        },
        "id": "onqgI0reOx7n",
        "outputId": "14af0f00-9574-427c-a486-a30180aac3ee"
      },
      "source": [
        "np.dot(kanto ,weights).sum()"
      ],
      "execution_count": 17,
      "outputs": [
        {
          "output_type": "execute_result",
          "data": {
            "text/plain": [
              "59.1"
            ]
          },
          "metadata": {
            "tags": []
          },
          "execution_count": 17
        }
      ]
    },
    {
      "cell_type": "code",
      "metadata": {
        "colab": {
          "base_uri": "https://localhost:8080/"
        },
        "id": "ObMyffZOO-ka",
        "outputId": "7236a361-68a1-4c44-f560-ef6b90c09937"
      },
      "source": [
        "kanto * weights"
      ],
      "execution_count": 14,
      "outputs": [
        {
          "output_type": "execute_result",
          "data": {
            "text/plain": [
              "array([ 3.6, 17. , 38.5])"
            ]
          },
          "metadata": {
            "tags": []
          },
          "execution_count": 14
        }
      ]
    },
    {
      "cell_type": "code",
      "metadata": {
        "id": "mbAK7TGQPg_f"
      },
      "source": [
        "#python list\n",
        "arra1 = list(range(30))\n",
        "arra2 = list(range(10,40))"
      ],
      "execution_count": 27,
      "outputs": []
    },
    {
      "cell_type": "code",
      "metadata": {
        "id": "Ako46VrXSKVj"
      },
      "source": [
        "# Numpy Arrays\n",
        "arr1_np = np.array(arra1)\n",
        "arr2_np = np.array(arra2)"
      ],
      "execution_count": 28,
      "outputs": []
    },
    {
      "cell_type": "code",
      "metadata": {
        "colab": {
          "base_uri": "https://localhost:8080/"
        },
        "id": "H-lVQL_tuKbr",
        "outputId": "f48b7455-0ad3-47b4-9ebb-517b6bc356ee"
      },
      "source": [
        "%%time\n",
        "result = 0\n",
        "for x1,x2 in zip(arra1,arra2):\n",
        "  result = result + x1*x2\n",
        "result "
      ],
      "execution_count": 33,
      "outputs": [
        {
          "output_type": "stream",
          "text": [
            "CPU times: user 20 µs, sys: 2 µs, total: 22 µs\n",
            "Wall time: 25.7 µs\n"
          ],
          "name": "stdout"
        }
      ]
    },
    {
      "cell_type": "code",
      "metadata": {
        "colab": {
          "base_uri": "https://localhost:8080/"
        },
        "id": "ZGcCBhABuaLz",
        "outputId": "0b82caed-77b9-429a-ba2b-d85393c3e529"
      },
      "source": [
        "%%time\n",
        "np.dot(arr1_np,arr2_np)"
      ],
      "execution_count": 30,
      "outputs": [
        {
          "output_type": "stream",
          "text": [
            "CPU times: user 1.12 ms, sys: 0 ns, total: 1.12 ms\n",
            "Wall time: 1.36 ms\n"
          ],
          "name": "stdout"
        },
        {
          "output_type": "execute_result",
          "data": {
            "text/plain": [
              "12905"
            ]
          },
          "metadata": {
            "tags": []
          },
          "execution_count": 30
        }
      ]
    },
    {
      "cell_type": "code",
      "metadata": {
        "colab": {
          "base_uri": "https://localhost:8080/"
        },
        "id": "WfMpTW9tu0n2",
        "outputId": "05601942-bb4e-4f71-f972-77d7ce9123eb"
      },
      "source": [
        "# 2D array\n",
        "climate_data = np.array([[10,20,30],\n",
        "                        [11,22,33],\n",
        "                        [44,55,66]])\n",
        "climate_data"
      ],
      "execution_count": 35,
      "outputs": [
        {
          "output_type": "execute_result",
          "data": {
            "text/plain": [
              "array([[10, 20, 30],\n",
              "       [11, 22, 33],\n",
              "       [44, 55, 66]])"
            ]
          },
          "metadata": {
            "tags": []
          },
          "execution_count": 35
        }
      ]
    },
    {
      "cell_type": "code",
      "metadata": {
        "colab": {
          "base_uri": "https://localhost:8080/"
        },
        "id": "hNzl17Viw6m1",
        "outputId": "ee3bbb7f-d510-4b9e-e14e-01c52b1df8d1"
      },
      "source": [
        "climate_data.dtype"
      ],
      "execution_count": 36,
      "outputs": [
        {
          "output_type": "execute_result",
          "data": {
            "text/plain": [
              "dtype('int64')"
            ]
          },
          "metadata": {
            "tags": []
          },
          "execution_count": 36
        }
      ]
    },
    {
      "cell_type": "code",
      "metadata": {
        "id": "DIyYlLW3ztyD"
      },
      "source": [
        "arr3 = np.array([[1,2,3],\n",
        "                 [4,5,6],\n",
        "                 [7,8,9]])\n",
        "\n",
        "arr4 = np.array([1,1,1])\n",
        "\n"
      ],
      "execution_count": 42,
      "outputs": []
    },
    {
      "cell_type": "code",
      "metadata": {
        "colab": {
          "base_uri": "https://localhost:8080/"
        },
        "id": "S6ZbKU7Y6PVU",
        "outputId": "11cde05b-2754-4e24-e610-96e695b57afe"
      },
      "source": [
        "arr3+arr4"
      ],
      "execution_count": 43,
      "outputs": [
        {
          "output_type": "execute_result",
          "data": {
            "text/plain": [
              "array([[ 2,  3,  4],\n",
              "       [ 5,  6,  7],\n",
              "       [ 8,  9, 10]])"
            ]
          },
          "metadata": {
            "tags": []
          },
          "execution_count": 43
        }
      ]
    },
    {
      "cell_type": "code",
      "metadata": {
        "colab": {
          "base_uri": "https://localhost:8080/"
        },
        "id": "cPa3hLJi6S2x",
        "outputId": "97b5fc24-ee3c-4203-eefe-5c86a92f202e"
      },
      "source": [
        "np.eye(3)"
      ],
      "execution_count": 3,
      "outputs": [
        {
          "output_type": "execute_result",
          "data": {
            "text/plain": [
              "array([[1., 0., 0.],\n",
              "       [0., 1., 0.],\n",
              "       [0., 0., 1.]])"
            ]
          },
          "metadata": {
            "tags": []
          },
          "execution_count": 3
        }
      ]
    },
    {
      "cell_type": "code",
      "metadata": {
        "colab": {
          "base_uri": "https://localhost:8080/"
        },
        "id": "sVm-YF35foYd",
        "outputId": "32656922-a7ea-401b-ea6b-7a7497380b92"
      },
      "source": [
        "np.random.rand(5)"
      ],
      "execution_count": 5,
      "outputs": [
        {
          "output_type": "execute_result",
          "data": {
            "text/plain": [
              "array([0.95322241, 0.31191876, 0.5235662 , 0.89968652, 0.03740709])"
            ]
          },
          "metadata": {
            "tags": []
          },
          "execution_count": 5
        }
      ]
    },
    {
      "cell_type": "code",
      "metadata": {
        "colab": {
          "base_uri": "https://localhost:8080/"
        },
        "id": "CfZt48JwgRpH",
        "outputId": "e60779ca-9982-427f-a8a1-4a54cc8adb3f"
      },
      "source": [
        "np.random.randn(5)"
      ],
      "execution_count": 6,
      "outputs": [
        {
          "output_type": "execute_result",
          "data": {
            "text/plain": [
              "array([-0.49281271, -0.01822703, -0.78717505, -0.38921617,  0.46246078])"
            ]
          },
          "metadata": {
            "tags": []
          },
          "execution_count": 6
        }
      ]
    },
    {
      "cell_type": "code",
      "metadata": {
        "colab": {
          "base_uri": "https://localhost:8080/"
        },
        "id": "NyUky5NlgZEA",
        "outputId": "242e4690-9d50-44a3-b60c-72de00867de3"
      },
      "source": [
        "np.arange(10,90)"
      ],
      "execution_count": 10,
      "outputs": [
        {
          "output_type": "execute_result",
          "data": {
            "text/plain": [
              "array([10, 11, 12, 13, 14, 15, 16, 17, 18, 19, 20, 21, 22, 23, 24, 25, 26,\n",
              "       27, 28, 29, 30, 31, 32, 33, 34, 35, 36, 37, 38, 39, 40, 41, 42, 43,\n",
              "       44, 45, 46, 47, 48, 49, 50, 51, 52, 53, 54, 55, 56, 57, 58, 59, 60,\n",
              "       61, 62, 63, 64, 65, 66, 67, 68, 69, 70, 71, 72, 73, 74, 75, 76, 77,\n",
              "       78, 79, 80, 81, 82, 83, 84, 85, 86, 87, 88, 89])"
            ]
          },
          "metadata": {
            "tags": []
          },
          "execution_count": 10
        }
      ]
    },
    {
      "cell_type": "code",
      "metadata": {
        "colab": {
          "base_uri": "https://localhost:8080/"
        },
        "id": "abwLdOC5gftQ",
        "outputId": "6b05b5aa-e972-42be-bccb-9c93a1027113"
      },
      "source": [
        "np.linspace(3,27)"
      ],
      "execution_count": 9,
      "outputs": [
        {
          "output_type": "execute_result",
          "data": {
            "text/plain": [
              "array([ 3.        ,  3.48979592,  3.97959184,  4.46938776,  4.95918367,\n",
              "        5.44897959,  5.93877551,  6.42857143,  6.91836735,  7.40816327,\n",
              "        7.89795918,  8.3877551 ,  8.87755102,  9.36734694,  9.85714286,\n",
              "       10.34693878, 10.83673469, 11.32653061, 11.81632653, 12.30612245,\n",
              "       12.79591837, 13.28571429, 13.7755102 , 14.26530612, 14.75510204,\n",
              "       15.24489796, 15.73469388, 16.2244898 , 16.71428571, 17.20408163,\n",
              "       17.69387755, 18.18367347, 18.67346939, 19.16326531, 19.65306122,\n",
              "       20.14285714, 20.63265306, 21.12244898, 21.6122449 , 22.10204082,\n",
              "       22.59183673, 23.08163265, 23.57142857, 24.06122449, 24.55102041,\n",
              "       25.04081633, 25.53061224, 26.02040816, 26.51020408, 27.        ])"
            ]
          },
          "metadata": {
            "tags": []
          },
          "execution_count": 9
        }
      ]
    },
    {
      "cell_type": "code",
      "metadata": {
        "id": "KWVS_LkAgndE"
      },
      "source": [
        "#\n",
        "import os"
      ],
      "execution_count": 11,
      "outputs": []
    },
    {
      "cell_type": "code",
      "metadata": {
        "colab": {
          "base_uri": "https://localhost:8080/",
          "height": 35
        },
        "id": "ShC2tzdjl0j6",
        "outputId": "e9cf8290-9329-4aa0-9587-3f02470b5440"
      },
      "source": [
        "os.getcwd()"
      ],
      "execution_count": 12,
      "outputs": [
        {
          "output_type": "execute_result",
          "data": {
            "application/vnd.google.colaboratory.intrinsic+json": {
              "type": "string"
            },
            "text/plain": [
              "'/content'"
            ]
          },
          "metadata": {
            "tags": []
          },
          "execution_count": 12
        }
      ]
    },
    {
      "cell_type": "code",
      "metadata": {
        "colab": {
          "base_uri": "https://localhost:8080/"
        },
        "id": "4DzVQtI0l3kO",
        "outputId": "d7b2e998-9cbb-4e2c-b40c-c954f91dac2f"
      },
      "source": [
        "help(os.listdir)"
      ],
      "execution_count": 13,
      "outputs": [
        {
          "output_type": "stream",
          "text": [
            "Help on built-in function listdir in module posix:\n",
            "\n",
            "listdir(path=None)\n",
            "    Return a list containing the names of the files in the directory.\n",
            "    \n",
            "    path can be specified as either str, bytes, or a path-like object.  If path is bytes,\n",
            "      the filenames returned will also be bytes; in all other circumstances\n",
            "      the filenames returned will be str.\n",
            "    If path is None, uses the path='.'.\n",
            "    On some platforms, path may also be specified as an open file descriptor;\\\n",
            "      the file descriptor must refer to a directory.\n",
            "      If this functionality is unavailable, using it raises NotImplementedError.\n",
            "    \n",
            "    The list is in arbitrary order.  It does not include the special\n",
            "    entries '.' and '..' even if they are present in the directory.\n",
            "\n"
          ],
          "name": "stdout"
        }
      ]
    },
    {
      "cell_type": "code",
      "metadata": {
        "colab": {
          "base_uri": "https://localhost:8080/"
        },
        "id": "-tIyEtC9l8hu",
        "outputId": "32d38ea4-54a2-4cf4-f8cd-fefd86ee95cc"
      },
      "source": [
        "os.listdir(\".\")"
      ],
      "execution_count": 14,
      "outputs": [
        {
          "output_type": "execute_result",
          "data": {
            "text/plain": [
              "['.config', 'sample_data']"
            ]
          },
          "metadata": {
            "tags": []
          },
          "execution_count": 14
        }
      ]
    },
    {
      "cell_type": "markdown",
      "metadata": {
        "id": "pjuAcomyxXnH"
      },
      "source": [
        "# File operations"
      ]
    },
    {
      "cell_type": "code",
      "metadata": {
        "colab": {
          "base_uri": "https://localhost:8080/"
        },
        "id": "mn17jyDmmvve",
        "outputId": "2e2e83e0-8a10-4715-ee29-754ba5f62596"
      },
      "source": [
        "#_____________________\n",
        "\n",
        "file1 = open(\"sample3.txt\",mode=\"r\",encoding='UTF-8')\n",
        "file1"
      ],
      "execution_count": 33,
      "outputs": [
        {
          "output_type": "execute_result",
          "data": {
            "text/plain": [
              "<_io.TextIOWrapper name='sample3.txt' mode='r' encoding='UTF-8'>"
            ]
          },
          "metadata": {
            "tags": []
          },
          "execution_count": 33
        }
      ]
    },
    {
      "cell_type": "code",
      "metadata": {
        "id": "yNPQAiMdxw7g"
      },
      "source": [
        ""
      ],
      "execution_count": null,
      "outputs": []
    }
  ]
}